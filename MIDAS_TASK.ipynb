{
  "nbformat": 4,
  "nbformat_minor": 0,
  "metadata": {
    "colab": {
      "name": "MIDAS_TASK.ipynb",
      "provenance": [],
      "collapsed_sections": [],
      "include_colab_link": true
    },
    "kernelspec": {
      "name": "python3",
      "display_name": "Python 3"
    },
    "language_info": {
      "name": "python"
    }
  },
  "cells": [
    {
      "cell_type": "markdown",
      "metadata": {
        "id": "view-in-github",
        "colab_type": "text"
      },
      "source": [
        "<a href=\"https://colab.research.google.com/github/ankita1964/Flipkary_Product_Category_Prediction/blob/main/MIDAS_TASK.ipynb\" target=\"_parent\"><img src=\"https://colab.research.google.com/assets/colab-badge.svg\" alt=\"Open In Colab\"/></a>"
      ]
    },
    {
      "cell_type": "markdown",
      "metadata": {
        "id": "IrCquDScMx67"
      },
      "source": [
        "## 1. **Exploratory Data Analysis**"
      ]
    },
    {
      "cell_type": "markdown",
      "metadata": {
        "id": "s0jjLwndMxxk"
      },
      "source": [
        "1.0 Reading the data from the csv file and importing some necessary packages."
      ]
    },
    {
      "cell_type": "code",
      "metadata": {
        "id": "zDVBlJhbGvdi"
      },
      "source": [
        "import pandas as pd\n",
        "import matplotlib.pyplot as plt\n",
        "import numpy as np\n",
        "import seaborn as sns"
      ],
      "execution_count": 1,
      "outputs": []
    },
    {
      "cell_type": "code",
      "metadata": {
        "colab": {
          "base_uri": "https://localhost:8080/"
        },
        "id": "PceVUO9sI85O",
        "outputId": "c7be742a-f29b-47ea-c252-6bc7e02ad8c5"
      },
      "source": [
        "from google.colab import drive\n",
        "drive.mount('drive')"
      ],
      "execution_count": 2,
      "outputs": [
        {
          "output_type": "stream",
          "text": [
            "Mounted at drive\n"
          ],
          "name": "stdout"
        }
      ]
    },
    {
      "cell_type": "code",
      "metadata": {
        "id": "lKKk2HX1I9DK"
      },
      "source": [
        "df = pd.read_csv('./drive/My Drive/flipkart_product_category.csv', encoding = 'latin-1')"
      ],
      "execution_count": 3,
      "outputs": []
    },
    {
      "cell_type": "markdown",
      "metadata": {
        "id": "lL3aH193Nn4u"
      },
      "source": [
        "1.1 Understanding the dataset overall in terms of the size and data columns while trying to figure out how categories are mentioned. \n"
      ]
    },
    {
      "cell_type": "code",
      "metadata": {
        "colab": {
          "base_uri": "https://localhost:8080/"
        },
        "id": "nCdiSDQyI9GK",
        "outputId": "f0702b41-cf5b-45c1-e04a-3b7f8cbca6ab"
      },
      "source": [
        "df.info()"
      ],
      "execution_count": 4,
      "outputs": [
        {
          "output_type": "stream",
          "text": [
            "<class 'pandas.core.frame.DataFrame'>\n",
            "RangeIndex: 20000 entries, 0 to 19999\n",
            "Data columns (total 15 columns):\n",
            " #   Column                   Non-Null Count  Dtype  \n",
            "---  ------                   --------------  -----  \n",
            " 0   uniq_id                  20000 non-null  object \n",
            " 1   crawl_timestamp          20000 non-null  object \n",
            " 2   product_url              20000 non-null  object \n",
            " 3   product_name             20000 non-null  object \n",
            " 4   product_category_tree    20000 non-null  object \n",
            " 5   pid                      20000 non-null  object \n",
            " 6   retail_price             19922 non-null  float64\n",
            " 7   discounted_price         19922 non-null  float64\n",
            " 8   image                    19997 non-null  object \n",
            " 9   is_FK_Advantage_product  20000 non-null  bool   \n",
            " 10  description              19998 non-null  object \n",
            " 11  product_rating           20000 non-null  object \n",
            " 12  overall_rating           20000 non-null  object \n",
            " 13  brand                    14136 non-null  object \n",
            " 14  product_specifications   19986 non-null  object \n",
            "dtypes: bool(1), float64(2), object(12)\n",
            "memory usage: 2.2+ MB\n"
          ],
          "name": "stdout"
        }
      ]
    },
    {
      "cell_type": "code",
      "metadata": {
        "colab": {
          "base_uri": "https://localhost:8080/",
          "height": 906
        },
        "id": "TL-J2eaKI9N_",
        "outputId": "25ab2916-134a-4563-aa70-7fa82133e99e"
      },
      "source": [
        "df.head(10)"
      ],
      "execution_count": 5,
      "outputs": [
        {
          "output_type": "execute_result",
          "data": {
            "text/html": [
              "<div>\n",
              "<style scoped>\n",
              "    .dataframe tbody tr th:only-of-type {\n",
              "        vertical-align: middle;\n",
              "    }\n",
              "\n",
              "    .dataframe tbody tr th {\n",
              "        vertical-align: top;\n",
              "    }\n",
              "\n",
              "    .dataframe thead th {\n",
              "        text-align: right;\n",
              "    }\n",
              "</style>\n",
              "<table border=\"1\" class=\"dataframe\">\n",
              "  <thead>\n",
              "    <tr style=\"text-align: right;\">\n",
              "      <th></th>\n",
              "      <th>uniq_id</th>\n",
              "      <th>crawl_timestamp</th>\n",
              "      <th>product_url</th>\n",
              "      <th>product_name</th>\n",
              "      <th>product_category_tree</th>\n",
              "      <th>pid</th>\n",
              "      <th>retail_price</th>\n",
              "      <th>discounted_price</th>\n",
              "      <th>image</th>\n",
              "      <th>is_FK_Advantage_product</th>\n",
              "      <th>description</th>\n",
              "      <th>product_rating</th>\n",
              "      <th>overall_rating</th>\n",
              "      <th>brand</th>\n",
              "      <th>product_specifications</th>\n",
              "    </tr>\n",
              "  </thead>\n",
              "  <tbody>\n",
              "    <tr>\n",
              "      <th>0</th>\n",
              "      <td>c2d766ca982eca8304150849735ffef9</td>\n",
              "      <td>2016-03-25 22:59:23 +0000</td>\n",
              "      <td>http://www.flipkart.com/alisha-solid-women-s-c...</td>\n",
              "      <td>Alisha Solid Women's Cycling Shorts</td>\n",
              "      <td>[\"Clothing &gt;&gt; Women's Clothing &gt;&gt; Lingerie, Sl...</td>\n",
              "      <td>SRTEH2FF9KEDEFGF</td>\n",
              "      <td>999.0</td>\n",
              "      <td>379.0</td>\n",
              "      <td>[\"http://img5a.flixcart.com/image/short/u/4/a/...</td>\n",
              "      <td>False</td>\n",
              "      <td>Key Features of Alisha Solid Women's Cycling S...</td>\n",
              "      <td>No rating available</td>\n",
              "      <td>No rating available</td>\n",
              "      <td>Alisha</td>\n",
              "      <td>{\"product_specification\"=&gt;[{\"key\"=&gt;\"Number of ...</td>\n",
              "    </tr>\n",
              "    <tr>\n",
              "      <th>1</th>\n",
              "      <td>7f7036a6d550aaa89d34c77bd39a5e48</td>\n",
              "      <td>2016-03-25 22:59:23 +0000</td>\n",
              "      <td>http://www.flipkart.com/fabhomedecor-fabric-do...</td>\n",
              "      <td>FabHomeDecor Fabric Double Sofa Bed</td>\n",
              "      <td>[\"Furniture &gt;&gt; Living Room Furniture &gt;&gt; Sofa B...</td>\n",
              "      <td>SBEEH3QGU7MFYJFY</td>\n",
              "      <td>32157.0</td>\n",
              "      <td>22646.0</td>\n",
              "      <td>[\"http://img6a.flixcart.com/image/sofa-bed/j/f...</td>\n",
              "      <td>False</td>\n",
              "      <td>FabHomeDecor Fabric Double Sofa Bed (Finish Co...</td>\n",
              "      <td>No rating available</td>\n",
              "      <td>No rating available</td>\n",
              "      <td>FabHomeDecor</td>\n",
              "      <td>{\"product_specification\"=&gt;[{\"key\"=&gt;\"Installati...</td>\n",
              "    </tr>\n",
              "    <tr>\n",
              "      <th>2</th>\n",
              "      <td>f449ec65dcbc041b6ae5e6a32717d01b</td>\n",
              "      <td>2016-03-25 22:59:23 +0000</td>\n",
              "      <td>http://www.flipkart.com/aw-bellies/p/itmeh4grg...</td>\n",
              "      <td>AW Bellies</td>\n",
              "      <td>[\"Footwear &gt;&gt; Women's Footwear &gt;&gt; Ballerinas &gt;...</td>\n",
              "      <td>SHOEH4GRSUBJGZXE</td>\n",
              "      <td>999.0</td>\n",
              "      <td>499.0</td>\n",
              "      <td>[\"http://img5a.flixcart.com/image/shoe/7/z/z/r...</td>\n",
              "      <td>False</td>\n",
              "      <td>Key Features of AW Bellies Sandals Wedges Heel...</td>\n",
              "      <td>No rating available</td>\n",
              "      <td>No rating available</td>\n",
              "      <td>AW</td>\n",
              "      <td>{\"product_specification\"=&gt;[{\"key\"=&gt;\"Ideal For\"...</td>\n",
              "    </tr>\n",
              "    <tr>\n",
              "      <th>3</th>\n",
              "      <td>0973b37acd0c664e3de26e97e5571454</td>\n",
              "      <td>2016-03-25 22:59:23 +0000</td>\n",
              "      <td>http://www.flipkart.com/alisha-solid-women-s-c...</td>\n",
              "      <td>Alisha Solid Women's Cycling Shorts</td>\n",
              "      <td>[\"Clothing &gt;&gt; Women's Clothing &gt;&gt; Lingerie, Sl...</td>\n",
              "      <td>SRTEH2F6HUZMQ6SJ</td>\n",
              "      <td>699.0</td>\n",
              "      <td>267.0</td>\n",
              "      <td>[\"http://img5a.flixcart.com/image/short/6/2/h/...</td>\n",
              "      <td>False</td>\n",
              "      <td>Key Features of Alisha Solid Women's Cycling S...</td>\n",
              "      <td>No rating available</td>\n",
              "      <td>No rating available</td>\n",
              "      <td>Alisha</td>\n",
              "      <td>{\"product_specification\"=&gt;[{\"key\"=&gt;\"Number of ...</td>\n",
              "    </tr>\n",
              "    <tr>\n",
              "      <th>4</th>\n",
              "      <td>bc940ea42ee6bef5ac7cea3fb5cfbee7</td>\n",
              "      <td>2016-03-25 22:59:23 +0000</td>\n",
              "      <td>http://www.flipkart.com/sicons-all-purpose-arn...</td>\n",
              "      <td>Sicons All Purpose Arnica Dog Shampoo</td>\n",
              "      <td>[\"Pet Supplies &gt;&gt; Grooming &gt;&gt; Skin &amp; Coat Care...</td>\n",
              "      <td>PSOEH3ZYDMSYARJ5</td>\n",
              "      <td>220.0</td>\n",
              "      <td>210.0</td>\n",
              "      <td>[\"http://img5a.flixcart.com/image/pet-shampoo/...</td>\n",
              "      <td>False</td>\n",
              "      <td>Specifications of Sicons All Purpose Arnica Do...</td>\n",
              "      <td>No rating available</td>\n",
              "      <td>No rating available</td>\n",
              "      <td>Sicons</td>\n",
              "      <td>{\"product_specification\"=&gt;[{\"key\"=&gt;\"Pet Type\",...</td>\n",
              "    </tr>\n",
              "    <tr>\n",
              "      <th>5</th>\n",
              "      <td>c2a17313954882c1dba461863e98adf2</td>\n",
              "      <td>2016-03-25 22:59:23 +0000</td>\n",
              "      <td>http://www.flipkart.com/eternal-gandhi-super-s...</td>\n",
              "      <td>Eternal Gandhi Super Series Crystal Paper Weig...</td>\n",
              "      <td>[\"Eternal Gandhi Super Series Crystal Paper We...</td>\n",
              "      <td>PWTEB7H2E4KCYUE3</td>\n",
              "      <td>430.0</td>\n",
              "      <td>430.0</td>\n",
              "      <td>[\"http://img5a.flixcart.com/image/paper-weight...</td>\n",
              "      <td>False</td>\n",
              "      <td>Key Features of Eternal Gandhi Super Series Cr...</td>\n",
              "      <td>No rating available</td>\n",
              "      <td>No rating available</td>\n",
              "      <td>Eternal Gandhi</td>\n",
              "      <td>{\"product_specification\"=&gt;[{\"key\"=&gt;\"Model Name...</td>\n",
              "    </tr>\n",
              "    <tr>\n",
              "      <th>6</th>\n",
              "      <td>ce5a6818f7707e2cb61fdcdbba61f5ad</td>\n",
              "      <td>2016-03-25 22:59:23 +0000</td>\n",
              "      <td>http://www.flipkart.com/alisha-solid-women-s-c...</td>\n",
              "      <td>Alisha Solid Women's Cycling Shorts</td>\n",
              "      <td>[\"Clothing &gt;&gt; Women's Clothing &gt;&gt; Lingerie, Sl...</td>\n",
              "      <td>SRTEH2FVVKRBAXHB</td>\n",
              "      <td>1199.0</td>\n",
              "      <td>479.0</td>\n",
              "      <td>[\"http://img6a.flixcart.com/image/short/p/j/z/...</td>\n",
              "      <td>False</td>\n",
              "      <td>Key Features of Alisha Solid Women's Cycling S...</td>\n",
              "      <td>No rating available</td>\n",
              "      <td>No rating available</td>\n",
              "      <td>Alisha</td>\n",
              "      <td>{\"product_specification\"=&gt;[{\"key\"=&gt;\"Number of ...</td>\n",
              "    </tr>\n",
              "    <tr>\n",
              "      <th>7</th>\n",
              "      <td>8542703ca9e6ebdf6d742638dfb1f2ca</td>\n",
              "      <td>2016-03-25 22:59:23 +0000</td>\n",
              "      <td>http://www.flipkart.com/fabhomedecor-fabric-do...</td>\n",
              "      <td>FabHomeDecor Fabric Double Sofa Bed</td>\n",
              "      <td>[\"Furniture &gt;&gt; Living Room Furniture &gt;&gt; Sofa B...</td>\n",
              "      <td>SBEEH3QGYGHFUEXN</td>\n",
              "      <td>32157.0</td>\n",
              "      <td>22646.0</td>\n",
              "      <td>[\"http://img6a.flixcart.com/image/sofa-bed/e/x...</td>\n",
              "      <td>False</td>\n",
              "      <td>FabHomeDecor Fabric Double Sofa Bed (Finish Co...</td>\n",
              "      <td>No rating available</td>\n",
              "      <td>No rating available</td>\n",
              "      <td>FabHomeDecor</td>\n",
              "      <td>{\"product_specification\"=&gt;[{\"key\"=&gt;\"Installati...</td>\n",
              "    </tr>\n",
              "    <tr>\n",
              "      <th>8</th>\n",
              "      <td>29c8d290caa451f97b1c32df64477a2c</td>\n",
              "      <td>2016-03-25 22:59:23 +0000</td>\n",
              "      <td>http://www.flipkart.com/dilli-bazaaar-bellies-...</td>\n",
              "      <td>dilli bazaaar Bellies, Corporate Casuals, Casuals</td>\n",
              "      <td>[\"Footwear &gt;&gt; Women's Footwear &gt;&gt; Ballerinas &gt;...</td>\n",
              "      <td>SHOEH3DZBFR88SCK</td>\n",
              "      <td>699.0</td>\n",
              "      <td>349.0</td>\n",
              "      <td>[\"http://img6a.flixcart.com/image/shoe/b/p/n/p...</td>\n",
              "      <td>False</td>\n",
              "      <td>Key Features of dilli bazaaar Bellies, Corpora...</td>\n",
              "      <td>No rating available</td>\n",
              "      <td>No rating available</td>\n",
              "      <td>dilli bazaaar</td>\n",
              "      <td>{\"product_specification\"=&gt;[{\"key\"=&gt;\"Occasion\",...</td>\n",
              "    </tr>\n",
              "    <tr>\n",
              "      <th>9</th>\n",
              "      <td>4044c0ac52c1ee4b28777417651faf42</td>\n",
              "      <td>2016-03-25 22:59:23 +0000</td>\n",
              "      <td>http://www.flipkart.com/alisha-solid-women-s-c...</td>\n",
              "      <td>Alisha Solid Women's Cycling Shorts</td>\n",
              "      <td>[\"Clothing &gt;&gt; Women's Clothing &gt;&gt; Lingerie, Sl...</td>\n",
              "      <td>SRTEH2FVUHAAVH9X</td>\n",
              "      <td>1199.0</td>\n",
              "      <td>479.0</td>\n",
              "      <td>[\"http://img5a.flixcart.com/image/short/5/z/c/...</td>\n",
              "      <td>False</td>\n",
              "      <td>Key Features of Alisha Solid Women's Cycling S...</td>\n",
              "      <td>No rating available</td>\n",
              "      <td>No rating available</td>\n",
              "      <td>Alisha</td>\n",
              "      <td>{\"product_specification\"=&gt;[{\"key\"=&gt;\"Number of ...</td>\n",
              "    </tr>\n",
              "  </tbody>\n",
              "</table>\n",
              "</div>"
            ],
            "text/plain": [
              "                            uniq_id  ...                             product_specifications\n",
              "0  c2d766ca982eca8304150849735ffef9  ...  {\"product_specification\"=>[{\"key\"=>\"Number of ...\n",
              "1  7f7036a6d550aaa89d34c77bd39a5e48  ...  {\"product_specification\"=>[{\"key\"=>\"Installati...\n",
              "2  f449ec65dcbc041b6ae5e6a32717d01b  ...  {\"product_specification\"=>[{\"key\"=>\"Ideal For\"...\n",
              "3  0973b37acd0c664e3de26e97e5571454  ...  {\"product_specification\"=>[{\"key\"=>\"Number of ...\n",
              "4  bc940ea42ee6bef5ac7cea3fb5cfbee7  ...  {\"product_specification\"=>[{\"key\"=>\"Pet Type\",...\n",
              "5  c2a17313954882c1dba461863e98adf2  ...  {\"product_specification\"=>[{\"key\"=>\"Model Name...\n",
              "6  ce5a6818f7707e2cb61fdcdbba61f5ad  ...  {\"product_specification\"=>[{\"key\"=>\"Number of ...\n",
              "7  8542703ca9e6ebdf6d742638dfb1f2ca  ...  {\"product_specification\"=>[{\"key\"=>\"Installati...\n",
              "8  29c8d290caa451f97b1c32df64477a2c  ...  {\"product_specification\"=>[{\"key\"=>\"Occasion\",...\n",
              "9  4044c0ac52c1ee4b28777417651faf42  ...  {\"product_specification\"=>[{\"key\"=>\"Number of ...\n",
              "\n",
              "[10 rows x 15 columns]"
            ]
          },
          "metadata": {
            "tags": []
          },
          "execution_count": 5
        }
      ]
    },
    {
      "cell_type": "code",
      "metadata": {
        "colab": {
          "base_uri": "https://localhost:8080/",
          "height": 1000
        },
        "id": "JNb3USyIKHja",
        "outputId": "c8377348-3adf-48e0-81b9-cb2d664c4c63"
      },
      "source": [
        "df.tail(10)"
      ],
      "execution_count": 6,
      "outputs": [
        {
          "output_type": "execute_result",
          "data": {
            "text/html": [
              "<div>\n",
              "<style scoped>\n",
              "    .dataframe tbody tr th:only-of-type {\n",
              "        vertical-align: middle;\n",
              "    }\n",
              "\n",
              "    .dataframe tbody tr th {\n",
              "        vertical-align: top;\n",
              "    }\n",
              "\n",
              "    .dataframe thead th {\n",
              "        text-align: right;\n",
              "    }\n",
              "</style>\n",
              "<table border=\"1\" class=\"dataframe\">\n",
              "  <thead>\n",
              "    <tr style=\"text-align: right;\">\n",
              "      <th></th>\n",
              "      <th>uniq_id</th>\n",
              "      <th>crawl_timestamp</th>\n",
              "      <th>product_url</th>\n",
              "      <th>product_name</th>\n",
              "      <th>product_category_tree</th>\n",
              "      <th>pid</th>\n",
              "      <th>retail_price</th>\n",
              "      <th>discounted_price</th>\n",
              "      <th>image</th>\n",
              "      <th>is_FK_Advantage_product</th>\n",
              "      <th>description</th>\n",
              "      <th>product_rating</th>\n",
              "      <th>overall_rating</th>\n",
              "      <th>brand</th>\n",
              "      <th>product_specifications</th>\n",
              "    </tr>\n",
              "  </thead>\n",
              "  <tbody>\n",
              "    <tr>\n",
              "      <th>19990</th>\n",
              "      <td>5847c8e9547dd50843f9d89886848ab9</td>\n",
              "      <td>2015-12-01 10:15:43 +0000</td>\n",
              "      <td>http://www.flipkart.com/elite-collection-mediu...</td>\n",
              "      <td>Elite Collection Medium Acrylic Sticker</td>\n",
              "      <td>[\"Baby Care &gt;&gt; Baby &amp; Kids Gifts &gt;&gt; Stickers &gt;...</td>\n",
              "      <td>STIE88KNKXY33QZJ</td>\n",
              "      <td>1299.0</td>\n",
              "      <td>999.0</td>\n",
              "      <td>[\"http://img6a.flixcart.com/image/sticker/q/z/...</td>\n",
              "      <td>False</td>\n",
              "      <td>Buy Elite Collection Medium Acrylic Sticker fo...</td>\n",
              "      <td>No rating available</td>\n",
              "      <td>No rating available</td>\n",
              "      <td>Elite Collection</td>\n",
              "      <td>{\"product_specification\"=&gt;[{\"key\"=&gt;\"Number of ...</td>\n",
              "    </tr>\n",
              "    <tr>\n",
              "      <th>19991</th>\n",
              "      <td>4b4714b5f0c9971d1145efe8d16c458b</td>\n",
              "      <td>2015-12-01 10:15:43 +0000</td>\n",
              "      <td>http://www.flipkart.com/walldesign-small-vinyl...</td>\n",
              "      <td>WallDesign Small Vinyl Sticker</td>\n",
              "      <td>[\"Baby Care &gt;&gt; Baby &amp; Kids Gifts &gt;&gt; Stickers &gt;...</td>\n",
              "      <td>STIE7KFHHU4GMGBE</td>\n",
              "      <td>1220.0</td>\n",
              "      <td>600.0</td>\n",
              "      <td>[\"http://img6a.flixcart.com/image/wall-decorat...</td>\n",
              "      <td>False</td>\n",
              "      <td>Buy WallDesign Small Vinyl Sticker for Rs.600 ...</td>\n",
              "      <td>No rating available</td>\n",
              "      <td>No rating available</td>\n",
              "      <td>WallDesign</td>\n",
              "      <td>{\"product_specification\"=&gt;[{\"key\"=&gt;\"Number of ...</td>\n",
              "    </tr>\n",
              "    <tr>\n",
              "      <th>19992</th>\n",
              "      <td>a68293dfd7b022e03cbf57e9bb002496</td>\n",
              "      <td>2015-12-01 10:15:43 +0000</td>\n",
              "      <td>http://www.flipkart.com/999store-medium-paper-...</td>\n",
              "      <td>999store Medium Paper Sticker</td>\n",
              "      <td>[\"Baby Care &gt;&gt; Baby &amp; Kids Gifts &gt;&gt; Stickers &gt;...</td>\n",
              "      <td>STIE2FRB8JYCGK8H</td>\n",
              "      <td>999.0</td>\n",
              "      <td>599.0</td>\n",
              "      <td>[\"http://img6a.flixcart.com/image/sticker/k/8/...</td>\n",
              "      <td>False</td>\n",
              "      <td>Buy 999store Medium Paper Sticker for Rs.599 o...</td>\n",
              "      <td>No rating available</td>\n",
              "      <td>No rating available</td>\n",
              "      <td>999store</td>\n",
              "      <td>{\"product_specification\"=&gt;[{\"key\"=&gt;\"Sales Pack...</td>\n",
              "    </tr>\n",
              "    <tr>\n",
              "      <th>19993</th>\n",
              "      <td>a38fc11b1f6dc2d38bf38fae03ab6743</td>\n",
              "      <td>2015-12-01 10:15:43 +0000</td>\n",
              "      <td>http://www.flipkart.com/elite-collection-mediu...</td>\n",
              "      <td>Elite Collection Medium Acrylic Sticker</td>\n",
              "      <td>[\"Baby Care &gt;&gt; Baby &amp; Kids Gifts &gt;&gt; Stickers &gt;...</td>\n",
              "      <td>STIE88KNYM5PHFJW</td>\n",
              "      <td>1299.0</td>\n",
              "      <td>999.0</td>\n",
              "      <td>[\"http://img6a.flixcart.com/image/sticker/f/j/...</td>\n",
              "      <td>False</td>\n",
              "      <td>Buy Elite Collection Medium Acrylic Sticker fo...</td>\n",
              "      <td>No rating available</td>\n",
              "      <td>No rating available</td>\n",
              "      <td>Elite Collection</td>\n",
              "      <td>{\"product_specification\"=&gt;[{\"key\"=&gt;\"Number of ...</td>\n",
              "    </tr>\n",
              "    <tr>\n",
              "      <th>19994</th>\n",
              "      <td>7415e1a421fb468d25a5ea56350f44be</td>\n",
              "      <td>2015-12-01 10:15:43 +0000</td>\n",
              "      <td>http://www.flipkart.com/wallmantra-large-vinyl...</td>\n",
              "      <td>Wallmantra Large Vinyl Stickers Sticker</td>\n",
              "      <td>[\"Baby Care &gt;&gt; Baby &amp; Kids Gifts &gt;&gt; Stickers &gt;...</td>\n",
              "      <td>STIE9F5TXEZ2RT8N</td>\n",
              "      <td>727.0</td>\n",
              "      <td>582.0</td>\n",
              "      <td>[\"http://img6a.flixcart.com/image/sticker/p/a/...</td>\n",
              "      <td>False</td>\n",
              "      <td>Buy Wallmantra Large Vinyl Stickers Sticker fo...</td>\n",
              "      <td>No rating available</td>\n",
              "      <td>No rating available</td>\n",
              "      <td>Wallmantra</td>\n",
              "      <td>{\"product_specification\"=&gt;[{\"key\"=&gt;\"Number of ...</td>\n",
              "    </tr>\n",
              "    <tr>\n",
              "      <th>19995</th>\n",
              "      <td>7179d2f6c4ad50a17d014ca1d2815156</td>\n",
              "      <td>2015-12-01 10:15:43 +0000</td>\n",
              "      <td>http://www.flipkart.com/walldesign-small-vinyl...</td>\n",
              "      <td>WallDesign Small Vinyl Sticker</td>\n",
              "      <td>[\"Baby Care &gt;&gt; Baby &amp; Kids Gifts &gt;&gt; Stickers &gt;...</td>\n",
              "      <td>STIE7KFJAKSTDY9G</td>\n",
              "      <td>1500.0</td>\n",
              "      <td>730.0</td>\n",
              "      <td>[\"http://img6a.flixcart.com/image/wall-decorat...</td>\n",
              "      <td>False</td>\n",
              "      <td>Buy WallDesign Small Vinyl Sticker for Rs.730 ...</td>\n",
              "      <td>No rating available</td>\n",
              "      <td>No rating available</td>\n",
              "      <td>WallDesign</td>\n",
              "      <td>{\"product_specification\"=&gt;[{\"key\"=&gt;\"Number of ...</td>\n",
              "    </tr>\n",
              "    <tr>\n",
              "      <th>19996</th>\n",
              "      <td>71ac419198359d37b8fe5e3fffdfee09</td>\n",
              "      <td>2015-12-01 10:15:43 +0000</td>\n",
              "      <td>http://www.flipkart.com/wallmantra-large-vinyl...</td>\n",
              "      <td>Wallmantra Large Vinyl Stickers Sticker</td>\n",
              "      <td>[\"Baby Care &gt;&gt; Baby &amp; Kids Gifts &gt;&gt; Stickers &gt;...</td>\n",
              "      <td>STIE9F5URNQGJCGH</td>\n",
              "      <td>1429.0</td>\n",
              "      <td>1143.0</td>\n",
              "      <td>[\"http://img6a.flixcart.com/image/sticker/z/g/...</td>\n",
              "      <td>False</td>\n",
              "      <td>Buy Wallmantra Large Vinyl Stickers Sticker fo...</td>\n",
              "      <td>No rating available</td>\n",
              "      <td>No rating available</td>\n",
              "      <td>Wallmantra</td>\n",
              "      <td>{\"product_specification\"=&gt;[{\"key\"=&gt;\"Number of ...</td>\n",
              "    </tr>\n",
              "    <tr>\n",
              "      <th>19997</th>\n",
              "      <td>93e9d343837400ce0d7980874ece471c</td>\n",
              "      <td>2015-12-01 10:15:43 +0000</td>\n",
              "      <td>http://www.flipkart.com/elite-collection-mediu...</td>\n",
              "      <td>Elite Collection Medium Acrylic Sticker</td>\n",
              "      <td>[\"Baby Care &gt;&gt; Baby &amp; Kids Gifts &gt;&gt; Stickers &gt;...</td>\n",
              "      <td>STIE7VAYDKQZEBSD</td>\n",
              "      <td>1299.0</td>\n",
              "      <td>999.0</td>\n",
              "      <td>[\"http://img5a.flixcart.com/image/sticker/b/s/...</td>\n",
              "      <td>False</td>\n",
              "      <td>Buy Elite Collection Medium Acrylic Sticker fo...</td>\n",
              "      <td>No rating available</td>\n",
              "      <td>No rating available</td>\n",
              "      <td>Elite Collection</td>\n",
              "      <td>{\"product_specification\"=&gt;[{\"key\"=&gt;\"Number of ...</td>\n",
              "    </tr>\n",
              "    <tr>\n",
              "      <th>19998</th>\n",
              "      <td>669e79b8fa5d9ae020841c0c97d5e935</td>\n",
              "      <td>2015-12-01 10:15:43 +0000</td>\n",
              "      <td>http://www.flipkart.com/elite-collection-mediu...</td>\n",
              "      <td>Elite Collection Medium Acrylic Sticker</td>\n",
              "      <td>[\"Baby Care &gt;&gt; Baby &amp; Kids Gifts &gt;&gt; Stickers &gt;...</td>\n",
              "      <td>STIE8YSVEPPCZ42Y</td>\n",
              "      <td>1499.0</td>\n",
              "      <td>1199.0</td>\n",
              "      <td>[\"http://img5a.flixcart.com/image/sticker/4/2/...</td>\n",
              "      <td>False</td>\n",
              "      <td>Buy Elite Collection Medium Acrylic Sticker fo...</td>\n",
              "      <td>No rating available</td>\n",
              "      <td>No rating available</td>\n",
              "      <td>Elite Collection</td>\n",
              "      <td>{\"product_specification\"=&gt;[{\"key\"=&gt;\"Number of ...</td>\n",
              "    </tr>\n",
              "    <tr>\n",
              "      <th>19999</th>\n",
              "      <td>cb4fa87a874f715fff567f7b7b3be79c</td>\n",
              "      <td>2015-12-01 10:15:43 +0000</td>\n",
              "      <td>http://www.flipkart.com/elite-collection-mediu...</td>\n",
              "      <td>Elite Collection Medium Acrylic Sticker</td>\n",
              "      <td>[\"Baby Care &gt;&gt; Baby &amp; Kids Gifts &gt;&gt; Stickers &gt;...</td>\n",
              "      <td>STIE88KN9ZDSGZKY</td>\n",
              "      <td>1499.0</td>\n",
              "      <td>999.0</td>\n",
              "      <td>[\"http://img6a.flixcart.com/image/sticker/z/k/...</td>\n",
              "      <td>False</td>\n",
              "      <td>Buy Elite Collection Medium Acrylic Sticker fo...</td>\n",
              "      <td>No rating available</td>\n",
              "      <td>No rating available</td>\n",
              "      <td>Elite Collection</td>\n",
              "      <td>{\"product_specification\"=&gt;[{\"key\"=&gt;\"Number of ...</td>\n",
              "    </tr>\n",
              "  </tbody>\n",
              "</table>\n",
              "</div>"
            ],
            "text/plain": [
              "                                uniq_id  ...                             product_specifications\n",
              "19990  5847c8e9547dd50843f9d89886848ab9  ...  {\"product_specification\"=>[{\"key\"=>\"Number of ...\n",
              "19991  4b4714b5f0c9971d1145efe8d16c458b  ...  {\"product_specification\"=>[{\"key\"=>\"Number of ...\n",
              "19992  a68293dfd7b022e03cbf57e9bb002496  ...  {\"product_specification\"=>[{\"key\"=>\"Sales Pack...\n",
              "19993  a38fc11b1f6dc2d38bf38fae03ab6743  ...  {\"product_specification\"=>[{\"key\"=>\"Number of ...\n",
              "19994  7415e1a421fb468d25a5ea56350f44be  ...  {\"product_specification\"=>[{\"key\"=>\"Number of ...\n",
              "19995  7179d2f6c4ad50a17d014ca1d2815156  ...  {\"product_specification\"=>[{\"key\"=>\"Number of ...\n",
              "19996  71ac419198359d37b8fe5e3fffdfee09  ...  {\"product_specification\"=>[{\"key\"=>\"Number of ...\n",
              "19997  93e9d343837400ce0d7980874ece471c  ...  {\"product_specification\"=>[{\"key\"=>\"Number of ...\n",
              "19998  669e79b8fa5d9ae020841c0c97d5e935  ...  {\"product_specification\"=>[{\"key\"=>\"Number of ...\n",
              "19999  cb4fa87a874f715fff567f7b7b3be79c  ...  {\"product_specification\"=>[{\"key\"=>\"Number of ...\n",
              "\n",
              "[10 rows x 15 columns]"
            ]
          },
          "metadata": {
            "tags": []
          },
          "execution_count": 6
        }
      ]
    },
    {
      "cell_type": "markdown",
      "metadata": {
        "id": "hYt9yFEqOHNx"
      },
      "source": [
        "1.2 As we can observe that the column 'product_category_tree' has sub category as well as sub-sub category and so on. Therefore, we need to figure out the primary category."
      ]
    },
    {
      "cell_type": "code",
      "metadata": {
        "id": "Xd4c0rANKHoi"
      },
      "source": [
        "df['product_category_tree'] = df['product_category_tree'].apply(lambda x : x.split('>>')[0][2:].strip())"
      ],
      "execution_count": 7,
      "outputs": []
    },
    {
      "cell_type": "markdown",
      "metadata": {
        "id": "OJO8-UA0OWTQ"
      },
      "source": [
        "1.3 Printing first ten values to check whether the primary category has been separated."
      ]
    },
    {
      "cell_type": "code",
      "metadata": {
        "colab": {
          "base_uri": "https://localhost:8080/",
          "height": 906
        },
        "id": "811wNseFKHqg",
        "outputId": "b1480251-a43b-4152-9fb1-7410cb4e5809"
      },
      "source": [
        "df.head(10)"
      ],
      "execution_count": 8,
      "outputs": [
        {
          "output_type": "execute_result",
          "data": {
            "text/html": [
              "<div>\n",
              "<style scoped>\n",
              "    .dataframe tbody tr th:only-of-type {\n",
              "        vertical-align: middle;\n",
              "    }\n",
              "\n",
              "    .dataframe tbody tr th {\n",
              "        vertical-align: top;\n",
              "    }\n",
              "\n",
              "    .dataframe thead th {\n",
              "        text-align: right;\n",
              "    }\n",
              "</style>\n",
              "<table border=\"1\" class=\"dataframe\">\n",
              "  <thead>\n",
              "    <tr style=\"text-align: right;\">\n",
              "      <th></th>\n",
              "      <th>uniq_id</th>\n",
              "      <th>crawl_timestamp</th>\n",
              "      <th>product_url</th>\n",
              "      <th>product_name</th>\n",
              "      <th>product_category_tree</th>\n",
              "      <th>pid</th>\n",
              "      <th>retail_price</th>\n",
              "      <th>discounted_price</th>\n",
              "      <th>image</th>\n",
              "      <th>is_FK_Advantage_product</th>\n",
              "      <th>description</th>\n",
              "      <th>product_rating</th>\n",
              "      <th>overall_rating</th>\n",
              "      <th>brand</th>\n",
              "      <th>product_specifications</th>\n",
              "    </tr>\n",
              "  </thead>\n",
              "  <tbody>\n",
              "    <tr>\n",
              "      <th>0</th>\n",
              "      <td>c2d766ca982eca8304150849735ffef9</td>\n",
              "      <td>2016-03-25 22:59:23 +0000</td>\n",
              "      <td>http://www.flipkart.com/alisha-solid-women-s-c...</td>\n",
              "      <td>Alisha Solid Women's Cycling Shorts</td>\n",
              "      <td>Clothing</td>\n",
              "      <td>SRTEH2FF9KEDEFGF</td>\n",
              "      <td>999.0</td>\n",
              "      <td>379.0</td>\n",
              "      <td>[\"http://img5a.flixcart.com/image/short/u/4/a/...</td>\n",
              "      <td>False</td>\n",
              "      <td>Key Features of Alisha Solid Women's Cycling S...</td>\n",
              "      <td>No rating available</td>\n",
              "      <td>No rating available</td>\n",
              "      <td>Alisha</td>\n",
              "      <td>{\"product_specification\"=&gt;[{\"key\"=&gt;\"Number of ...</td>\n",
              "    </tr>\n",
              "    <tr>\n",
              "      <th>1</th>\n",
              "      <td>7f7036a6d550aaa89d34c77bd39a5e48</td>\n",
              "      <td>2016-03-25 22:59:23 +0000</td>\n",
              "      <td>http://www.flipkart.com/fabhomedecor-fabric-do...</td>\n",
              "      <td>FabHomeDecor Fabric Double Sofa Bed</td>\n",
              "      <td>Furniture</td>\n",
              "      <td>SBEEH3QGU7MFYJFY</td>\n",
              "      <td>32157.0</td>\n",
              "      <td>22646.0</td>\n",
              "      <td>[\"http://img6a.flixcart.com/image/sofa-bed/j/f...</td>\n",
              "      <td>False</td>\n",
              "      <td>FabHomeDecor Fabric Double Sofa Bed (Finish Co...</td>\n",
              "      <td>No rating available</td>\n",
              "      <td>No rating available</td>\n",
              "      <td>FabHomeDecor</td>\n",
              "      <td>{\"product_specification\"=&gt;[{\"key\"=&gt;\"Installati...</td>\n",
              "    </tr>\n",
              "    <tr>\n",
              "      <th>2</th>\n",
              "      <td>f449ec65dcbc041b6ae5e6a32717d01b</td>\n",
              "      <td>2016-03-25 22:59:23 +0000</td>\n",
              "      <td>http://www.flipkart.com/aw-bellies/p/itmeh4grg...</td>\n",
              "      <td>AW Bellies</td>\n",
              "      <td>Footwear</td>\n",
              "      <td>SHOEH4GRSUBJGZXE</td>\n",
              "      <td>999.0</td>\n",
              "      <td>499.0</td>\n",
              "      <td>[\"http://img5a.flixcart.com/image/shoe/7/z/z/r...</td>\n",
              "      <td>False</td>\n",
              "      <td>Key Features of AW Bellies Sandals Wedges Heel...</td>\n",
              "      <td>No rating available</td>\n",
              "      <td>No rating available</td>\n",
              "      <td>AW</td>\n",
              "      <td>{\"product_specification\"=&gt;[{\"key\"=&gt;\"Ideal For\"...</td>\n",
              "    </tr>\n",
              "    <tr>\n",
              "      <th>3</th>\n",
              "      <td>0973b37acd0c664e3de26e97e5571454</td>\n",
              "      <td>2016-03-25 22:59:23 +0000</td>\n",
              "      <td>http://www.flipkart.com/alisha-solid-women-s-c...</td>\n",
              "      <td>Alisha Solid Women's Cycling Shorts</td>\n",
              "      <td>Clothing</td>\n",
              "      <td>SRTEH2F6HUZMQ6SJ</td>\n",
              "      <td>699.0</td>\n",
              "      <td>267.0</td>\n",
              "      <td>[\"http://img5a.flixcart.com/image/short/6/2/h/...</td>\n",
              "      <td>False</td>\n",
              "      <td>Key Features of Alisha Solid Women's Cycling S...</td>\n",
              "      <td>No rating available</td>\n",
              "      <td>No rating available</td>\n",
              "      <td>Alisha</td>\n",
              "      <td>{\"product_specification\"=&gt;[{\"key\"=&gt;\"Number of ...</td>\n",
              "    </tr>\n",
              "    <tr>\n",
              "      <th>4</th>\n",
              "      <td>bc940ea42ee6bef5ac7cea3fb5cfbee7</td>\n",
              "      <td>2016-03-25 22:59:23 +0000</td>\n",
              "      <td>http://www.flipkart.com/sicons-all-purpose-arn...</td>\n",
              "      <td>Sicons All Purpose Arnica Dog Shampoo</td>\n",
              "      <td>Pet Supplies</td>\n",
              "      <td>PSOEH3ZYDMSYARJ5</td>\n",
              "      <td>220.0</td>\n",
              "      <td>210.0</td>\n",
              "      <td>[\"http://img5a.flixcart.com/image/pet-shampoo/...</td>\n",
              "      <td>False</td>\n",
              "      <td>Specifications of Sicons All Purpose Arnica Do...</td>\n",
              "      <td>No rating available</td>\n",
              "      <td>No rating available</td>\n",
              "      <td>Sicons</td>\n",
              "      <td>{\"product_specification\"=&gt;[{\"key\"=&gt;\"Pet Type\",...</td>\n",
              "    </tr>\n",
              "    <tr>\n",
              "      <th>5</th>\n",
              "      <td>c2a17313954882c1dba461863e98adf2</td>\n",
              "      <td>2016-03-25 22:59:23 +0000</td>\n",
              "      <td>http://www.flipkart.com/eternal-gandhi-super-s...</td>\n",
              "      <td>Eternal Gandhi Super Series Crystal Paper Weig...</td>\n",
              "      <td>Eternal Gandhi Super Series Crystal Paper Weig...</td>\n",
              "      <td>PWTEB7H2E4KCYUE3</td>\n",
              "      <td>430.0</td>\n",
              "      <td>430.0</td>\n",
              "      <td>[\"http://img5a.flixcart.com/image/paper-weight...</td>\n",
              "      <td>False</td>\n",
              "      <td>Key Features of Eternal Gandhi Super Series Cr...</td>\n",
              "      <td>No rating available</td>\n",
              "      <td>No rating available</td>\n",
              "      <td>Eternal Gandhi</td>\n",
              "      <td>{\"product_specification\"=&gt;[{\"key\"=&gt;\"Model Name...</td>\n",
              "    </tr>\n",
              "    <tr>\n",
              "      <th>6</th>\n",
              "      <td>ce5a6818f7707e2cb61fdcdbba61f5ad</td>\n",
              "      <td>2016-03-25 22:59:23 +0000</td>\n",
              "      <td>http://www.flipkart.com/alisha-solid-women-s-c...</td>\n",
              "      <td>Alisha Solid Women's Cycling Shorts</td>\n",
              "      <td>Clothing</td>\n",
              "      <td>SRTEH2FVVKRBAXHB</td>\n",
              "      <td>1199.0</td>\n",
              "      <td>479.0</td>\n",
              "      <td>[\"http://img6a.flixcart.com/image/short/p/j/z/...</td>\n",
              "      <td>False</td>\n",
              "      <td>Key Features of Alisha Solid Women's Cycling S...</td>\n",
              "      <td>No rating available</td>\n",
              "      <td>No rating available</td>\n",
              "      <td>Alisha</td>\n",
              "      <td>{\"product_specification\"=&gt;[{\"key\"=&gt;\"Number of ...</td>\n",
              "    </tr>\n",
              "    <tr>\n",
              "      <th>7</th>\n",
              "      <td>8542703ca9e6ebdf6d742638dfb1f2ca</td>\n",
              "      <td>2016-03-25 22:59:23 +0000</td>\n",
              "      <td>http://www.flipkart.com/fabhomedecor-fabric-do...</td>\n",
              "      <td>FabHomeDecor Fabric Double Sofa Bed</td>\n",
              "      <td>Furniture</td>\n",
              "      <td>SBEEH3QGYGHFUEXN</td>\n",
              "      <td>32157.0</td>\n",
              "      <td>22646.0</td>\n",
              "      <td>[\"http://img6a.flixcart.com/image/sofa-bed/e/x...</td>\n",
              "      <td>False</td>\n",
              "      <td>FabHomeDecor Fabric Double Sofa Bed (Finish Co...</td>\n",
              "      <td>No rating available</td>\n",
              "      <td>No rating available</td>\n",
              "      <td>FabHomeDecor</td>\n",
              "      <td>{\"product_specification\"=&gt;[{\"key\"=&gt;\"Installati...</td>\n",
              "    </tr>\n",
              "    <tr>\n",
              "      <th>8</th>\n",
              "      <td>29c8d290caa451f97b1c32df64477a2c</td>\n",
              "      <td>2016-03-25 22:59:23 +0000</td>\n",
              "      <td>http://www.flipkart.com/dilli-bazaaar-bellies-...</td>\n",
              "      <td>dilli bazaaar Bellies, Corporate Casuals, Casuals</td>\n",
              "      <td>Footwear</td>\n",
              "      <td>SHOEH3DZBFR88SCK</td>\n",
              "      <td>699.0</td>\n",
              "      <td>349.0</td>\n",
              "      <td>[\"http://img6a.flixcart.com/image/shoe/b/p/n/p...</td>\n",
              "      <td>False</td>\n",
              "      <td>Key Features of dilli bazaaar Bellies, Corpora...</td>\n",
              "      <td>No rating available</td>\n",
              "      <td>No rating available</td>\n",
              "      <td>dilli bazaaar</td>\n",
              "      <td>{\"product_specification\"=&gt;[{\"key\"=&gt;\"Occasion\",...</td>\n",
              "    </tr>\n",
              "    <tr>\n",
              "      <th>9</th>\n",
              "      <td>4044c0ac52c1ee4b28777417651faf42</td>\n",
              "      <td>2016-03-25 22:59:23 +0000</td>\n",
              "      <td>http://www.flipkart.com/alisha-solid-women-s-c...</td>\n",
              "      <td>Alisha Solid Women's Cycling Shorts</td>\n",
              "      <td>Clothing</td>\n",
              "      <td>SRTEH2FVUHAAVH9X</td>\n",
              "      <td>1199.0</td>\n",
              "      <td>479.0</td>\n",
              "      <td>[\"http://img5a.flixcart.com/image/short/5/z/c/...</td>\n",
              "      <td>False</td>\n",
              "      <td>Key Features of Alisha Solid Women's Cycling S...</td>\n",
              "      <td>No rating available</td>\n",
              "      <td>No rating available</td>\n",
              "      <td>Alisha</td>\n",
              "      <td>{\"product_specification\"=&gt;[{\"key\"=&gt;\"Number of ...</td>\n",
              "    </tr>\n",
              "  </tbody>\n",
              "</table>\n",
              "</div>"
            ],
            "text/plain": [
              "                            uniq_id  ...                             product_specifications\n",
              "0  c2d766ca982eca8304150849735ffef9  ...  {\"product_specification\"=>[{\"key\"=>\"Number of ...\n",
              "1  7f7036a6d550aaa89d34c77bd39a5e48  ...  {\"product_specification\"=>[{\"key\"=>\"Installati...\n",
              "2  f449ec65dcbc041b6ae5e6a32717d01b  ...  {\"product_specification\"=>[{\"key\"=>\"Ideal For\"...\n",
              "3  0973b37acd0c664e3de26e97e5571454  ...  {\"product_specification\"=>[{\"key\"=>\"Number of ...\n",
              "4  bc940ea42ee6bef5ac7cea3fb5cfbee7  ...  {\"product_specification\"=>[{\"key\"=>\"Pet Type\",...\n",
              "5  c2a17313954882c1dba461863e98adf2  ...  {\"product_specification\"=>[{\"key\"=>\"Model Name...\n",
              "6  ce5a6818f7707e2cb61fdcdbba61f5ad  ...  {\"product_specification\"=>[{\"key\"=>\"Number of ...\n",
              "7  8542703ca9e6ebdf6d742638dfb1f2ca  ...  {\"product_specification\"=>[{\"key\"=>\"Installati...\n",
              "8  29c8d290caa451f97b1c32df64477a2c  ...  {\"product_specification\"=>[{\"key\"=>\"Occasion\",...\n",
              "9  4044c0ac52c1ee4b28777417651faf42  ...  {\"product_specification\"=>[{\"key\"=>\"Number of ...\n",
              "\n",
              "[10 rows x 15 columns]"
            ]
          },
          "metadata": {
            "tags": []
          },
          "execution_count": 8
        }
      ]
    },
    {
      "cell_type": "markdown",
      "metadata": {
        "id": "jAk14qs9O8QY"
      },
      "source": [
        "1.4 Checking the number of products against each category"
      ]
    },
    {
      "cell_type": "code",
      "metadata": {
        "colab": {
          "base_uri": "https://localhost:8080/"
        },
        "id": "iTNNP5KkLePC",
        "outputId": "3a23a1a0-fd7c-41a9-fdff-b46945aa7781"
      },
      "source": [
        "df['product_category_tree'].value_counts(ascending = False)"
      ],
      "execution_count": 9,
      "outputs": [
        {
          "output_type": "execute_result",
          "data": {
            "text/plain": [
              "Clothing                                          6198\n",
              "Jewellery                                         3531\n",
              "Footwear                                          1227\n",
              "Mobiles & Accessories                             1099\n",
              "Automotive                                        1012\n",
              "                                                  ... \n",
              "ANAND ARCHIES Girls Wedges\"]                         1\n",
              "Kanvas Bellies\"]                                     1\n",
              "Dressberry Orange Synthetic  Clutch\"]                1\n",
              "SMART DENIM Solid Women's White Denim Shorts\"]       1\n",
              "INVENTURE RETAIL Nail Cutter\"]                       1\n",
              "Name: product_category_tree, Length: 266, dtype: int64"
            ]
          },
          "metadata": {
            "tags": []
          },
          "execution_count": 9
        }
      ]
    },
    {
      "cell_type": "markdown",
      "metadata": {
        "id": "FAjScSadPK_W"
      },
      "source": [
        "1.5 We can observe that the range of no of products against the categories is very broad which may adversely affect the performance and accuracy of any machine learning algorithm. We will first observe the categories with a count > 5 and check whether they can be clubbed in any of the categories with a relatively higher count."
      ]
    },
    {
      "cell_type": "code",
      "metadata": {
        "id": "myycCfYJLeUt"
      },
      "source": [
        "from collections import Counter\n",
        "count = dict((Counter(df['product_category_tree'])))"
      ],
      "execution_count": 10,
      "outputs": []
    },
    {
      "cell_type": "code",
      "metadata": {
        "colab": {
          "base_uri": "https://localhost:8080/"
        },
        "id": "wTNoWnqALeXZ",
        "outputId": "c2aa3386-3f2a-4c2c-e0e0-e0eff5a23376"
      },
      "source": [
        "newcount={}\n",
        "for key, value in count.items():\n",
        "  if value > 5 :\n",
        "    newcount[key]=value\n",
        "for i in newcount:\n",
        "    print(i,newcount[i])"
      ],
      "execution_count": 11,
      "outputs": [
        {
          "output_type": "stream",
          "text": [
            "Clothing 6198\n",
            "Furniture 180\n",
            "Footwear 1227\n",
            "Pet Supplies 30\n",
            "Pens & Stationery 313\n",
            "Sports & Fitness 166\n",
            "Beauty and Personal Care 710\n",
            "Bags, Wallets & Belts 265\n",
            "Home Decor & Festive Needs 929\n",
            "Automotive 1012\n",
            "Tools & Hardware 391\n",
            "Vishudh Printed Women's Straight Kurta\"] 8\n",
            "Home Furnishing 700\n",
            "Baby Care 483\n",
            "Mobiles & Accessories 1099\n",
            "Watches 530\n",
            "Toys & School Supplies 330\n",
            "Jewellery 3531\n",
            "Kitchen & Dining 647\n",
            "Home & Kitchen 24\n",
            "Computers 578\n",
            "Cameras & Accessories 82\n",
            "Health & Personal Care Appliances 43\n",
            "Gaming 35\n",
            "Home Improvement 81\n",
            "Sunglasses 35\n",
            "Lilliput Top Baby Girl's  Combo\"] 8\n",
            "Home Entertainment 19\n",
            "Olvin Aviator Sunglasses\"] 7\n",
            "Clovia Women's Full Coverage Bra\"] 9\n",
            "Clovia Women's T-Shirt Bra\"] 6\n",
            "Eyewear 10\n",
            "eBooks 15\n"
          ],
          "name": "stdout"
        }
      ]
    },
    {
      "cell_type": "markdown",
      "metadata": {
        "id": "jBpCMBJ7PnWw"
      },
      "source": [
        "1.6 As we can observe categories like 'Vishudh Printed Women's Straight Kurta\"]', 'Clovia Women's Full Coverage Bra\"] 'Lilliput Top Baby Girl's  Combo\"]','Clovia Women's Full Coverage Bra\"]','Clovia Women's T-Shirt Bra\"]' can be clubbed into clothing, 'Olvin Aviator Sunglasses\"]' can be clubbed into Eyewear. Performing relevant changes in order to reduce the no of categories and better results."
      ]
    },
    {
      "cell_type": "code",
      "metadata": {
        "id": "MI2G63h6NPr6"
      },
      "source": [
        "df['product_category_tree'].replace(\"Cameras & Accessories\", 'Mobiles & Accessories', inplace = True)\n",
        "df['product_category_tree'].replace(\"Clovia Women's Full Coverage Bra\" + '\"' + \"]\", 'Clothing', inplace = True)\n",
        "df['product_category_tree'].replace(\"Lilliput Top Baby Girl's  \" + '\"' + \"]\", 'Clothing', inplace = True)\n",
        "df['product_category_tree'].replace(\"Lilliput Top Baby Girl's  Combo\" + '\"' + \"]\", 'Clothing', inplace = True)\n",
        "df['product_category_tree'].replace(\"Clovia Women's T-Shirt Bra\" + '\"' + \"]\", 'Clothing', inplace = True)\n",
        "df['product_category_tree'].replace(\"Vishudh Printed Women's Straight Kurta\" + '\"' + \"]\", 'Clothing', inplace = True)\n",
        "df['product_category_tree'].replace(\"Home & Kitchen\", 'Kitchen & Dining', inplace = True)\n",
        "df['product_category_tree'].replace(\"Home Improvement\", 'Home Furnishing', inplace = True)\n",
        "df['product_category_tree'].replace(\"Home Entertainment\", 'Home Furnishing', inplace = True)\n",
        "df['product_category_tree'].replace(\"Sunglasses\", 'Accessories', inplace = True)\n",
        "df['product_category_tree'].replace(\"Eyewear\", 'Accessories', inplace = True)\n",
        "df['product_category_tree'].replace(\"Olvin Aviator Sunglasses\" + '\"' + \"]\", 'Accessories', inplace = True)\n",
        "df['product_category_tree'].replace(\"Bags, Wallets & Belts\", 'Accessories', inplace = True)\n",
        "df['product_category_tree'].replace(\"Gaming\", 'Computers', inplace = True)\n",
        "df['product_category_tree'].replace(\"Health & Personal Care Appliances\", \"Beauty and Personal Care\", inplace = True)\n",
        "df['product_category_tree'].replace(\"eBooks\", 'Mobiles & Accessories', inplace = True)\n",
        "df['product_category_tree'].replace(\"Furniture\", 'Home Furnishing', inplace = True)"
      ],
      "execution_count": 12,
      "outputs": []
    },
    {
      "cell_type": "code",
      "metadata": {
        "colab": {
          "base_uri": "https://localhost:8080/"
        },
        "id": "YUXQp8CsNPuv",
        "outputId": "2c2fea9b-bb95-4b1a-cdd3-ba4eb6defc60"
      },
      "source": [
        "newcount={}\n",
        "for key, value in count.items():\n",
        "  if value < 6 and value > 3 :\n",
        "    newcount[key]=value\n",
        "for i in newcount:\n",
        "    print(i,newcount[i])"
      ],
      "execution_count": 13,
      "outputs": [
        {
          "output_type": "stream",
          "text": [
            "MASARA Solid Women's Straight Kurta\"] 5\n",
            "Dressberry Gold Synthetic  Clutch\"] 4\n",
            "Sunglasses\"] 5\n",
            "Pu-Good Women Flats\"] 4\n",
            "FEET FLOW Women Flats\"] 4\n",
            "Olvin Wayfarer Sunglasses\"] 4\n",
            "Firangi Cotton, Polyester Free Floor Mat Firangi...\"] 4\n",
            "Household Supplies 4\n"
          ],
          "name": "stdout"
        }
      ]
    },
    {
      "cell_type": "code",
      "metadata": {
        "id": "aZwMcSXYNPxU"
      },
      "source": [
        "df['product_category_tree'].replace(\"MASARA Solid Women's Straight Kurta\" + '\"' + \"]\", 'Clothing', inplace = True)\n",
        "df['product_category_tree'].replace(\"FEET FLOW Women Flats\" + '\"' + \"]\", 'Footwear', inplace = True)\n",
        "df['product_category_tree'].replace(\"Olvin Wayfarer Sunglasses\" + '\"' + \"]\", 'Accessories', inplace = True)\n",
        "df['product_category_tree'].replace(\"Dressberry Gold Synthetic  Clutch\" + '\"' + \"]\", 'Accessories', inplace = True)\n",
        "df['product_category_tree'].replace(\"Pu-Good Women Flats\" + '\"' + \"]\", 'Footwear', inplace = True)\n",
        "df['product_category_tree'].replace(\"Firangi Cotton, Polyester Free Floor Mat Firangi...\" + '\"' + \"]\", 'Home Furnishing', inplace = True)\n",
        "\n"
      ],
      "execution_count": 14,
      "outputs": []
    },
    {
      "cell_type": "code",
      "metadata": {
        "colab": {
          "base_uri": "https://localhost:8080/"
        },
        "id": "N4Zz1gIPP1DL",
        "outputId": "02d33231-4f23-40ac-e6c6-6efebac2c79b"
      },
      "source": [
        "newcount={}\n",
        "for key, value in count.items():\n",
        "  if value < 4 and value > 1 :\n",
        "    newcount[key]=value\n",
        "for i in newcount:\n",
        "    print(i,newcount[i])"
      ],
      "execution_count": 15,
      "outputs": [
        {
          "output_type": "stream",
          "text": [
            "Food & Nutrition 2\n",
            "Mast & Harbour Black Synthetic  Clutch\"] 2\n",
            "Indistar Self Design Viscose Women's Stole\"] 3\n",
            "Dressberry Black Synthetic  Clutch\"] 2\n",
            "ANAND ARCHIES Girls Flats\"] 2\n",
            "Treppe Bellies\"] 3\n",
            "Frabjous German silver Rings For Women Alloy Zir...\"] 3\n",
            "Wearable Smart Devices 2\n",
            "TSG Breeze Printed Women's Round Neck Multicolor...\"] 2\n",
            "Pout Brass Bangle\"] 3\n",
            "HANS Men's Crew Length Socks\"] 2\n",
            "TIMBERLAKE Slim Fit Fit Women's Brown Jeans\"] 2\n",
            "Olvin Oval Sunglasses\"] 3\n",
            "Dilan Jewels Alloy Zircon 18K Yellow Gold Bangle...\"] 3\n",
            "COIRFIT Single Coir Mattress\"] 2\n",
            "Siyas Collection Lac Cubic Zirconia Bangle Set (...\"] 2\n",
            "Dassler Slim Fit Women's Multicolor Jeans\"] 3\n",
            "killys Men's Solid No Show Socks\"] 2\n",
            "INDILEGO Women Flats\"] 2\n",
            "TIMBERLAKE Slim Fit Fit Women's Red Jeans\"] 2\n",
            "Olvin Rectangular Sunglasses\"] 2\n",
            "D&D Women Flats\"] 2\n",
            "Ajaero Slim Fit Women's Dark Blue Jeans\"] 2\n",
            "The Cotton Company Solid Women's Polo Neck Pink ...\"] 2\n",
            "Camey Men's Quarter Length Socks\"] 2\n",
            "fourgee Slim Fit Women's Blue Jeans\"] 2\n",
            "Urban Girl Foundation Brush (Pack of 10)\"] 2\n",
            "Ruhi's Creations Polyester Silk Blend Cartoon Ki...\"] 3\n",
            "Crafty Hands Kutchchi Mirrorwork Tapestry (Maroon)\"] 2\n",
            "GALLOWAY skinny Fit Women's Jeans\"] 2\n",
            "EASIES Solid Single Breasted Casual Men's Blazer\"] 2\n",
            "Corcepts Universal Tablet HD Ultra Clear Transpa...\"] 2\n"
          ],
          "name": "stdout"
        }
      ]
    },
    {
      "cell_type": "code",
      "metadata": {
        "id": "_LCzTV23P1Gj"
      },
      "source": [
        "df['product_category_tree'].replace(\"Mast & Harbour Black Synthetic  Clutch\" + '\"' + \"]\", 'Accessories', inplace = True)\n",
        "df['product_category_tree'].replace(\"Indistar Self Design Viscose Women's Stole\" + '\"' + \"]\", 'Clothing', inplace = True)\n",
        "df['product_category_tree'].replace(\"Dressberry Black Synthetic  Clutch\" + '\"' + \"]\", 'Accessories', inplace = True)\n",
        "df['product_category_tree'].replace(\"ANAND ARCHIES Girls Flats\" + '\"' + \"]\", 'Footwear', inplace = True)\n",
        "df['product_category_tree'].replace(\"Treppe Bellies\" + '\"' + \"]\", 'Footwear', inplace = True)\n",
        "df['product_category_tree'].replace(\"Frabjous German silver Rings For Women Alloy Zir...\" + '\"' + \"]\", 'Accessories', inplace = True)\n",
        "df['product_category_tree'].replace(\"Corcepts Universal Tablet HD Ultra Clear Transpa...\" + '\"' + \"]\", 'Mobiles & Accessories', inplace = True)\n",
        "df['product_category_tree'].replace(\"EASIES Solid Single Breasted Casual Men's Blazer\" + '\"' + \"]\", 'Clothing', inplace = True)\n",
        "df['product_category_tree'].replace(\"GALLOWAY skinny Fit Women's Jeans\" + '\"' + \"]\", 'Clothing', inplace = True)\n",
        "df['product_category_tree'].replace(\"Urban Girl Foundation Brush (Pack of 10)\" + '\"' + \"]\", 'Beauty and Personal Care', inplace = True)\n",
        "df['product_category_tree'].replace(\"fourgee Slim Fit Women's Blue Jeans\" + '\"' + \"]\", 'Clothing', inplace = True)\n",
        "df['product_category_tree'].replace(\"Camey Men's Quarter Length Socks\" + '\"' + \"]\", 'Clothing', inplace = True)\n",
        "df['product_category_tree'].replace(\"The Cotton Company Solid Women's Polo Neck Pink\" + '\"' + \"]\", 'Clothing', inplace = True)\n",
        "df['product_category_tree'].replace(\"Ajaero Slim Fit Women's Dark Blue Jean\" + '\"' + \"]\", 'Clothing', inplace = True)\n",
        "df['product_category_tree'].replace(\"D&D Women Flats\" + '\"' + \"]\", 'Footwear', inplace = True)\n",
        "df['product_category_tree'].replace(\"Olvin Rectangular Sunglasses\" + '\"' + \"]\", 'Accessories', inplace = True)\n",
        "df['product_category_tree'].replace(\"TIMBERLAKE Slim Fit Fit Women's Red Jeans\" + '\"' + \"]\", 'Clothing', inplace = True)\n",
        "df['product_category_tree'].replace(\"INDILEGO Women Flats\" + '\"' + \"]\", 'Footwear', inplace = True)\n",
        "df['product_category_tree'].replace(\"D&D Women Flats\" + '\"' + \"]\", 'Footwear', inplace = True)\n",
        "df['product_category_tree'].replace(\"D&D Women Flats\" + '\"' + \"]\", 'Footwear', inplace = True)"
      ],
      "execution_count": 16,
      "outputs": []
    },
    {
      "cell_type": "markdown",
      "metadata": {
        "id": "XK3HcXG8Q224"
      },
      "source": [
        "1.7 Printing the number of products against each category and plotting a bargraph for the same"
      ]
    },
    {
      "cell_type": "code",
      "metadata": {
        "colab": {
          "base_uri": "https://localhost:8080/"
        },
        "id": "GN6L_AjKP1M3",
        "outputId": "13700643-02fe-455d-c3c0-aecf06d58f3a"
      },
      "source": [
        "from collections import Counter\n",
        "count = dict((Counter(df['product_category_tree'])))\n",
        "newcount={}\n",
        "for key, value in count.items():\n",
        "  if value > 5 :\n",
        "    newcount[key]=value\n",
        "for i in newcount:\n",
        "    print(i,newcount[i])"
      ],
      "execution_count": 17,
      "outputs": [
        {
          "output_type": "stream",
          "text": [
            "Clothing 6247\n",
            "Home Furnishing 984\n",
            "Footwear 1244\n",
            "Pet Supplies 30\n",
            "Pens & Stationery 313\n",
            "Sports & Fitness 166\n",
            "Beauty and Personal Care 755\n",
            "Accessories 334\n",
            "Home Decor & Festive Needs 929\n",
            "Automotive 1012\n",
            "Tools & Hardware 391\n",
            "Baby Care 483\n",
            "Mobiles & Accessories 1198\n",
            "Watches 530\n",
            "Toys & School Supplies 330\n",
            "Jewellery 3531\n",
            "Kitchen & Dining 671\n",
            "Computers 613\n"
          ],
          "name": "stdout"
        }
      ]
    },
    {
      "cell_type": "markdown",
      "metadata": {
        "id": "9e6jX8SmXkj1"
      },
      "source": [
        "1.8 Using matplotlib here, we are plotting the 'No_of_Products' against the 'Product_Category' in our dataset to check if there is a variation in how much data is present for each category. "
      ]
    },
    {
      "cell_type": "code",
      "metadata": {
        "colab": {
          "base_uri": "https://localhost:8080/",
          "height": 201
        },
        "id": "N0zvUDIARmfA",
        "outputId": "19fdfae6-eb2b-4423-f78e-0ff555711a38"
      },
      "source": [
        "keys = newcount. keys()\n",
        "values = newcount. values()\n",
        "fig = plt.figure(figsize = (36, 4))\n",
        "plt.bar(keys, values, color ='c')\n",
        "plt.xlabel('Product_Category')\n",
        "plt.ylabel('No_of_Products')\n"
      ],
      "execution_count": 18,
      "outputs": [
        {
          "output_type": "execute_result",
          "data": {
            "text/plain": [
              "Text(0, 0.5, 'No_of_Products')"
            ]
          },
          "metadata": {
            "tags": []
          },
          "execution_count": 18
        },
        {
          "output_type": "display_data",
          "data": {
            "image/png": "[encoded data removed]",
            "text/plain": [
              "<Figure size 2592x288 with 1 Axes>"
            ]
          },
          "metadata": {
            "tags": [],
            "needs_background": "light"
          }
        }
      ]
    },
    {
      "cell_type": "markdown",
      "metadata": {
        "id": "mJRc6lj_TgJh"
      },
      "source": [
        "1.9 Plotting a boxplot in order to figure out the outliers"
      ]
    },
    {
      "cell_type": "code",
      "metadata": {
        "colab": {
          "base_uri": "https://localhost:8080/",
          "height": 336
        },
        "id": "aXicCC8QTYEa",
        "outputId": "4e35632d-979f-4b5e-a9c4-5c981865157d"
      },
      "source": [
        "#Plotting a boxplot to observe the outliers\n",
        "arr = list(count.values())\n",
        "arr=sorted(arr)\n",
        "sns.boxplot(arr)"
      ],
      "execution_count": 22,
      "outputs": [
        {
          "output_type": "stream",
          "text": [
            "/usr/local/lib/python3.7/dist-packages/seaborn/_decorators.py:43: FutureWarning: Pass the following variable as a keyword arg: x. From version 0.12, the only valid positional argument will be `data`, and passing other arguments without an explicit keyword will result in an error or misinterpretation.\n",
            "  FutureWarning\n"
          ],
          "name": "stderr"
        },
        {
          "output_type": "execute_result",
          "data": {
            "text/plain": [
              "<matplotlib.axes._subplots.AxesSubplot at 0x7ff6bc277b10>"
            ]
          },
          "metadata": {
            "tags": []
          },
          "execution_count": 22
        },
        {
          "output_type": "display_data",
          "data": {
            "image/png": "[encoded data removed]",
            "text/plain": [
              "<Figure size 432x288 with 1 Axes>"
            ]
          },
          "metadata": {
            "tags": [],
            "needs_background": "light"
          }
        }
      ]
    },
    {
      "cell_type": "markdown",
      "metadata": {
        "id": "fQVTec3aTuZt"
      },
      "source": [
        "1.10 As we can observe from the boxplot and the bargraph that the dataset is highly unbalanced and hence, we need to balance out the dataset and pick around 1300 instances from Clothing and Jewellery"
      ]
    },
    {
      "cell_type": "code",
      "metadata": {
        "id": "WHVDcFR0TYJb",
        "colab": {
          "base_uri": "https://localhost:8080/",
          "height": 232
        },
        "outputId": "d4b3ad86-302f-433d-d0df-a6919cb40156"
      },
      "source": [
        "for col in df['product_category_tree'].unique():\n",
        "    value = len(df[df['product_category_tree']==col])\n",
        "    #print(value)\n",
        "    if (value<10):\n",
        "      indexes = df[df['product_category_tree']==col].index \n",
        "      df.drop(indexes, inplace=True)\n",
        "\n",
        "\n",
        "del count['Clothing']\n",
        "del count['Jewellery']\n",
        "cat_list = []\n",
        "for key, value in count.items():\n",
        "    if value > 5 :\n",
        "       cat_list.append(key)\n",
        "\n",
        "processed_df = df[df['product_category_tree'].isin(cat_list)]\n",
        "c_list = []\n",
        "c_list.append('Clothing')\n",
        "clothing_df=df[df['product_category_tree'].isin(c_list)]\n",
        "\n",
        "j_list = []\n",
        "j_list.append('Jewellery')\n",
        "jewellery_df=df[df['product_category_tree'].isin(j_list)]\n",
        "\n",
        "jewellery_sub = jewellery_df.head(1300)\n",
        "clothing_sub = clothing_df.head(1300)\n",
        "processed_sub = processed_df.head(9941)\n",
        "\n",
        "jewellery_sub = jewellery_sub.reset_index(drop=True)\n",
        "clothing_sub = clothing_sub.reset_index(drop=True)\n",
        "processed_sub = processed_sub.reset_index(drop=True)\n",
        "df_balanced = pd.concat([jewellery_sub, clothing_sub, processed_sub], axis=0)\n",
        "df_balanced.info()"
      ],
      "execution_count": 21,
      "outputs": [
        {
          "output_type": "error",
          "ename": "KeyError",
          "evalue": "ignored",
          "traceback": [
            "\u001b[0;31m---------------------------------------------------------------------------\u001b[0m",
            "\u001b[0;31mKeyError\u001b[0m                                  Traceback (most recent call last)",
            "\u001b[0;32m<ipython-input-21-031af10863b0>\u001b[0m in \u001b[0;36m<module>\u001b[0;34m()\u001b[0m\n\u001b[1;32m      7\u001b[0m \u001b[0;34m\u001b[0m\u001b[0m\n\u001b[1;32m      8\u001b[0m \u001b[0;34m\u001b[0m\u001b[0m\n\u001b[0;32m----> 9\u001b[0;31m \u001b[0;32mdel\u001b[0m \u001b[0mcount\u001b[0m\u001b[0;34m[\u001b[0m\u001b[0;34m'Clothing'\u001b[0m\u001b[0;34m]\u001b[0m\u001b[0;34m\u001b[0m\u001b[0;34m\u001b[0m\u001b[0m\n\u001b[0m\u001b[1;32m     10\u001b[0m \u001b[0;32mdel\u001b[0m \u001b[0mcount\u001b[0m\u001b[0;34m[\u001b[0m\u001b[0;34m'Jewellery'\u001b[0m\u001b[0;34m]\u001b[0m\u001b[0;34m\u001b[0m\u001b[0;34m\u001b[0m\u001b[0m\n\u001b[1;32m     11\u001b[0m \u001b[0mcat_list\u001b[0m \u001b[0;34m=\u001b[0m \u001b[0;34m[\u001b[0m\u001b[0;34m]\u001b[0m\u001b[0;34m\u001b[0m\u001b[0;34m\u001b[0m\u001b[0m\n",
            "\u001b[0;31mKeyError\u001b[0m: 'Clothing'"
          ]
        }
      ]
    },
    {
      "cell_type": "code",
      "metadata": {
        "colab": {
          "base_uri": "https://localhost:8080/"
        },
        "id": "1rabgILGVVQQ",
        "outputId": "b02ef879-ab85-4941-89d3-d0b1986faaab"
      },
      "source": [
        "count = dict((Counter(df_balanced['product_category_tree'])))\n",
        "newcount={}\n",
        "for key, value in count.items():\n",
        "  if value > 5 :\n",
        "    newcount[key]=value\n",
        "for i in newcount:\n",
        "    print(i,newcount[i])"
      ],
      "execution_count": 23,
      "outputs": [
        {
          "output_type": "stream",
          "text": [
            "Jewellery 1300\n",
            "Clothing 1300\n",
            "Home Furnishing 984\n",
            "Footwear 1242\n",
            "Pet Supplies 30\n",
            "Pens & Stationery 313\n",
            "Sports & Fitness 166\n",
            "Beauty and Personal Care 755\n",
            "Accessories 334\n",
            "Home Decor & Festive Needs 929\n",
            "Automotive 1012\n",
            "Tools & Hardware 391\n",
            "Baby Care 443\n",
            "Mobiles & Accessories 1198\n",
            "Watches 530\n",
            "Toys & School Supplies 330\n",
            "Kitchen & Dining 671\n",
            "Computers 613\n"
          ],
          "name": "stdout"
        }
      ]
    },
    {
      "cell_type": "markdown",
      "metadata": {
        "id": "YTV1bYp0XOT4"
      },
      "source": [
        "1.11 Using matplotlib here, we are plotting the 'No_of_Products' against the 'Product_Category' in our dataset to check if the dataset has been balanced. "
      ]
    },
    {
      "cell_type": "code",
      "metadata": {
        "colab": {
          "base_uri": "https://localhost:8080/",
          "height": 193
        },
        "id": "FZ2g1zFvVVUL",
        "outputId": "cc195469-0707-4174-ce82-e782351e7ee6"
      },
      "source": [
        "keys = newcount. keys()\n",
        "values = newcount. values()\n",
        "fig = plt.figure(figsize = (38, 4))\n",
        "plt.bar(keys, values, color ='c')\n",
        "plt.xlabel('Product_Category')\n",
        "plt.ylabel('No_of_Products')"
      ],
      "execution_count": 24,
      "outputs": [
        {
          "output_type": "execute_result",
          "data": {
            "text/plain": [
              "Text(0, 0.5, 'No_of_Products')"
            ]
          },
          "metadata": {
            "tags": []
          },
          "execution_count": 24
        },
        {
          "output_type": "display_data",
          "data": {
            "image/png": "[encoded data removed]",
            "text/plain": [
              "<Figure size 2736x288 with 1 Axes>"
            ]
          },
          "metadata": {
            "tags": [],
            "needs_background": "light"
          }
        }
      ]
    },
    {
      "cell_type": "markdown",
      "metadata": {
        "id": "QvRB8z4uW3wc"
      },
      "source": [
        "1.12 We can observe that the dataset is now balanced. Plotting the boxplot in order to observe if there are still any outliers present."
      ]
    },
    {
      "cell_type": "code",
      "metadata": {
        "colab": {
          "base_uri": "https://localhost:8080/",
          "height": 336
        },
        "id": "Qbr1y2FkVVYZ",
        "outputId": "d84496ca-9ace-40a5-dc11-c32bca7db61d"
      },
      "source": [
        "arr = list(count.values())\n",
        "arr=sorted(arr)\n",
        "sns.boxplot(arr)\n",
        "df_balanced.shape"
      ],
      "execution_count": 25,
      "outputs": [
        {
          "output_type": "stream",
          "text": [
            "/usr/local/lib/python3.7/dist-packages/seaborn/_decorators.py:43: FutureWarning: Pass the following variable as a keyword arg: x. From version 0.12, the only valid positional argument will be `data`, and passing other arguments without an explicit keyword will result in an error or misinterpretation.\n",
            "  FutureWarning\n"
          ],
          "name": "stderr"
        },
        {
          "output_type": "execute_result",
          "data": {
            "text/plain": [
              "(12541, 15)"
            ]
          },
          "metadata": {
            "tags": []
          },
          "execution_count": 25
        },
        {
          "output_type": "display_data",
          "data": {
            "image/png": "[encoded data removed]",
            "text/plain": [
              "<Figure size 432x288 with 1 Axes>"
            ]
          },
          "metadata": {
            "tags": [],
            "needs_background": "light"
          }
        }
      ]
    },
    {
      "cell_type": "markdown",
      "metadata": {
        "id": "DwZdJQxoY0Ak"
      },
      "source": [
        "# **Most Common Words**"
      ]
    },
    {
      "cell_type": "markdown",
      "metadata": {
        "id": "CQ7YBXbCZTZS"
      },
      "source": [
        "1.13 Function to plot the most common words in the descriptions. This will be helpful in finding the distribution relevant words, and accordingly we can decide the preprocessing and cleaning that the description feature requires."
      ]
    },
    {
      "cell_type": "code",
      "metadata": {
        "colab": {
          "base_uri": "https://localhost:8080/",
          "height": 262
        },
        "id": "UPYMO6ljUWvn",
        "outputId": "28e531ea-fe46-4c02-c1da-7ddc268639d2"
      },
      "source": [
        "import nltk\n",
        "nltk.download('punkt')\n",
        "def most_common_words_plt(x,c):\n",
        "    words = x.str.lower().str.cat(sep=' ')\n",
        "    words = nltk.tokenize.word_tokenize(words)\n",
        "    words_dist = nltk.FreqDist(w for w in words)\n",
        "    \n",
        "    rslt = pd.DataFrame(words_dist.most_common(20),\n",
        "                    columns=['Word', 'Frequency']).set_index('Word')\n",
        "    rslt.plot.bar(rot=0, figsize=(16,3), color=c)\n",
        "    plt.xlabel('Word', fontsize=12)\n",
        "    plt.ylabel('Frequency', fontsize=12)\n",
        "most_common_words_plt(df_balanced.description,'c')"
      ],
      "execution_count": 26,
      "outputs": [
        {
          "output_type": "stream",
          "text": [
            "[nltk_data] Downloading package punkt to /root/nltk_data...\n",
            "[nltk_data]   Unzipping tokenizers/punkt.zip.\n"
          ],
          "name": "stdout"
        },
        {
          "output_type": "display_data",
          "data": {
            "image/png": "[encoded data removed]",
            "text/plain": [
              "<Figure size 1152x216 with 1 Axes>"
            ]
          },
          "metadata": {
            "tags": [],
            "needs_background": "light"
          }
        }
      ]
    },
    {
      "cell_type": "markdown",
      "metadata": {
        "id": "gvE4DeKwZ76G"
      },
      "source": [
        "1.14 As we can observe that descriptions require preprocessing and cleaning. Now we define a function to remove stopwords and remove symbols or replace by space. Also we will include few more words in the liost of stopwords which have a high frequency but are irrelavant to the description, for e.g. only, your etc."
      ]
    },
    {
      "cell_type": "markdown",
      "metadata": {
        "id": "sraKxZ1uajr9"
      },
      "source": [
        "# **Preprocessing and Cleaning**"
      ]
    },
    {
      "cell_type": "code",
      "metadata": {
        "colab": {
          "base_uri": "https://localhost:8080/"
        },
        "id": "EylkwByCYI1Q",
        "outputId": "f909c25b-c9ed-41a0-a8d4-8b015ef170a2"
      },
      "source": [
        "import re\n",
        "import nltk\n",
        "nltk.download('stopwords')\n",
        "from nltk.corpus import stopwords\n",
        "\n",
        "\n",
        "def preprocess_string(str_arg):\n",
        "    stop_words = stopwords.words('english')\n",
        "    stop_words.append('.')\n",
        "    stop_words.append('only')\n",
        "    stop_words.append(\"'s\")\n",
        "    stop_words.append('-')\n",
        "    stop_words.append('buy')\n",
        "    stop_words.append('flipkart.com')\n",
        "    stop_words.append('online')\n",
        "    stop_words.append('com')\n",
        "    stop_words.append('rs')\n",
        "    stop_words.append('key')\n",
        "    stop_words.append('features')\n",
        "    stop_words.append('fo')\n",
        "    cleaned_str=re.sub('[^a-z\\s]+',' ',str_arg,flags=re.IGNORECASE) #every char except alphabets is replaced\n",
        "    cleaned_str=re.sub('(\\s+)',' ',cleaned_str) #multiple spaces are replaced by single space\n",
        "    cleaned_str=cleaned_str.lower() #converting the cleaned string to lower case\n",
        "    cleaned_str=' '.join(word for word in cleaned_str.split() if word not in stop_words)\n",
        "    \n",
        "    return cleaned_str\n",
        "\n",
        "df_balanced['description'] = df_balanced['description'].astype('str').apply(preprocess_string)"
      ],
      "execution_count": 27,
      "outputs": [
        {
          "output_type": "stream",
          "text": [
            "[nltk_data] Downloading package stopwords to /root/nltk_data...\n",
            "[nltk_data]   Unzipping corpora/stopwords.zip.\n"
          ],
          "name": "stdout"
        }
      ]
    },
    {
      "cell_type": "markdown",
      "metadata": {
        "id": "5JpotcMFa4wF"
      },
      "source": [
        "# **Most Common Words After Preprocessing**"
      ]
    },
    {
      "cell_type": "code",
      "metadata": {
        "colab": {
          "base_uri": "https://localhost:8080/",
          "height": 263
        },
        "id": "own86AopYI3s",
        "outputId": "4ab000b0-fc03-442b-9612-811673f4abc9"
      },
      "source": [
        "import nltk\n",
        "nltk.download('punkt')\n",
        "def most_common_words_plt(x,c):\n",
        "    words = x.str.lower().str.cat(sep=' ')\n",
        "    words = nltk.tokenize.word_tokenize(words)\n",
        "    words_dist = nltk.FreqDist(w for w in words)\n",
        "    \n",
        "    rslt = pd.DataFrame(words_dist.most_common(10),\n",
        "                    columns=['Word', 'Frequency']).set_index('Word')\n",
        "    rslt.plot.bar(rot=0, figsize=(16,3), color=c)\n",
        "    plt.xlabel('Word', fontsize=12)\n",
        "    plt.ylabel('Frequency', fontsize=12)\n",
        "most_common_words_plt(df_balanced.description,'c')"
      ],
      "execution_count": 28,
      "outputs": [
        {
          "output_type": "stream",
          "text": [
            "[nltk_data] Downloading package punkt to /root/nltk_data...\n",
            "[nltk_data]   Package punkt is already up-to-date!\n"
          ],
          "name": "stdout"
        },
        {
          "output_type": "display_data",
          "data": {
            "image/png": "[encoded data removed]",
            "text/plain": [
              "<Figure size 1152x216 with 1 Axes>"
            ]
          },
          "metadata": {
            "tags": [],
            "needs_background": "light"
          }
        }
      ]
    },
    {
      "cell_type": "markdown",
      "metadata": {
        "id": "RydzpxgHbeST"
      },
      "source": [
        "1.15 Plotting most common words for each category in order to check if any irrelavant words are still present"
      ]
    },
    {
      "cell_type": "code",
      "metadata": {
        "id": "Cvm5RuxXYI8_"
      },
      "source": [
        "from collections import defaultdict\n",
        "word_unique = defaultdict(list)\n",
        "for i in range(0,12541):\n",
        "    word_unique[df.product_category_tree.iloc[i]].extend(df_balanced.description.iloc[i].split())\n"
      ],
      "execution_count": 29,
      "outputs": []
    },
    {
      "cell_type": "code",
      "metadata": {
        "id": "lXPZHTlpYI_b"
      },
      "source": [
        "final = {}\n",
        "for word in word_unique:\n",
        "  final[word] = sorted(list(Counter(word_unique[word]).items()), key = lambda x: x[1], reverse = True)[:10]\n"
      ],
      "execution_count": 30,
      "outputs": []
    },
    {
      "cell_type": "code",
      "metadata": {
        "colab": {
          "base_uri": "https://localhost:8080/",
          "height": 1000
        },
        "id": "-ql57yqhodb6",
        "outputId": "a953cb2b-401f-4a5c-aff2-c2f60e4bfeb5"
      },
      "source": [
        "#Finding Most Common word for each category\n",
        "import matplotlib.pyplot as plt\n",
        "for i in newcount:\n",
        "    x = []\n",
        "    y = []\n",
        "    for j in final[i]:\n",
        "        x.append(j[0])\n",
        "        y.append(j[1])\n",
        "    fig = plt.figure(figsize = (16, 3))\n",
        "    plt.bar(x,y, color ='c')\n",
        "    plt.title('Most Common Words in ' + i)"
      ],
      "execution_count": 31,
      "outputs": [
        {
          "output_type": "display_data",
          "data": {
            "image/png": "[encoded data removed]",
            "text/plain": [
              "<Figure size 1152x216 with 1 Axes>"
            ]
          },
          "metadata": {
            "tags": [],
            "needs_background": "light"
          }
        },
        {
          "output_type": "display_data",
          "data": {
            "image/png": "[encoded data removed]",
            "text/plain": [
              "<Figure size 1152x216 with 1 Axes>"
            ]
          },
          "metadata": {
            "tags": [],
            "needs_background": "light"
          }
        },
        {
          "output_type": "display_data",
          "data": {
            "image/png": "[encoded data removed]",
            "text/plain": [
              "<Figure size 1152x216 with 1 Axes>"
            ]
          },
          "metadata": {
            "tags": [],
            "needs_background": "light"
          }
        },
        {
          "output_type": "display_data",
          "data": {
            "image/png": "[encoded data removed]",
            "text/plain": [
              "<Figure size 1152x216 with 1 Axes>"
            ]
          },
          "metadata": {
            "tags": [],
            "needs_background": "light"
          }
        },
        {
          "output_type": "display_data",
          "data": {
            "image/png": "[encoded data removed]",
            "text/plain": [
              "<Figure size 1152x216 with 1 Axes>"
            ]
          },
          "metadata": {
            "tags": [],
            "needs_background": "light"
          }
        },
        {
          "output_type": "display_data",
          "data": {
            "image/png": "[encoded data removed]",
            "text/plain": [
              "<Figure size 1152x216 with 1 Axes>"
            ]
          },
          "metadata": {
            "tags": [],
            "needs_background": "light"
          }
        },
        {
          "output_type": "display_data",
          "data": {
            "image/png": "[encoded data removed]",
            "text/plain": [
              "<Figure size 1152x216 with 1 Axes>"
            ]
          },
          "metadata": {
            "tags": [],
            "needs_background": "light"
          }
        },
        {
          "output_type": "display_data",
          "data": {
            "image/png": "[encoded data removed]",
            "text/plain": [
              "<Figure size 1152x216 with 1 Axes>"
            ]
          },
          "metadata": {
            "tags": [],
            "needs_background": "light"
          }
        },
        {
          "output_type": "display_data",
          "data": {
            "image/png": "[encoded data removed]",
            "text/plain": [
              "<Figure size 1152x216 with 1 Axes>"
            ]
          },
          "metadata": {
            "tags": [],
            "needs_background": "light"
          }
        },
        {
          "output_type": "display_data",
          "data": {
            "image/png": "[encoded data removed]",
            "text/plain": [
              "<Figure size 1152x216 with 1 Axes>"
            ]
          },
          "metadata": {
            "tags": [],
            "needs_background": "light"
          }
        },
        {
          "output_type": "display_data",
          "data": {
            "image/png": "[encoded data removed]",
            "text/plain": [
              "<Figure size 1152x216 with 1 Axes>"
            ]
          },
          "metadata": {
            "tags": [],
            "needs_background": "light"
          }
        },
        {
          "output_type": "display_data",
          "data": {
            "image/png": "[encoded data removed]",
            "text/plain": [
              "<Figure size 1152x216 with 1 Axes>"
            ]
          },
          "metadata": {
            "tags": [],
            "needs_background": "light"
          }
        },
        {
          "output_type": "display_data",
          "data": {
            "image/png": "[encoded data removed]",
            "text/plain": [
              "<Figure size 1152x216 with 1 Axes>"
            ]
          },
          "metadata": {
            "tags": [],
            "needs_background": "light"
          }
        },
        {
          "output_type": "display_data",
          "data": {
            "image/png": "[encoded data removed]",
            "text/plain": [
              "<Figure size 1152x216 with 1 Axes>"
            ]
          },
          "metadata": {
            "tags": [],
            "needs_background": "light"
          }
        },
        {
          "output_type": "display_data",
          "data": {
            "image/png": "[encoded data removed]",
            "text/plain": [
              "<Figure size 1152x216 with 1 Axes>"
            ]
          },
          "metadata": {
            "tags": [],
            "needs_background": "light"
          }
        },
        {
          "output_type": "display_data",
          "data": {
            "image/png": "[encoded data removed]",
            "text/plain": [
              "<Figure size 1152x216 with 1 Axes>"
            ]
          },
          "metadata": {
            "tags": [],
            "needs_background": "light"
          }
        },
        {
          "output_type": "display_data",
          "data": {
            "image/png": "[encoded data removed]",
            "text/plain": [
              "<Figure size 1152x216 with 1 Axes>"
            ]
          },
          "metadata": {
            "tags": [],
            "needs_background": "light"
          }
        },
        {
          "output_type": "display_data",
          "data": {
            "image/png": "[encoded data removed]",
            "text/plain": [
              "<Figure size 1152x216 with 1 Axes>"
            ]
          },
          "metadata": {
            "tags": [],
            "needs_background": "light"
          }
        }
      ]
    },
    {
      "cell_type": "markdown",
      "metadata": {
        "id": "VbpAY_ObccPw"
      },
      "source": [
        "1.16 It can be observed that descriptions belonging to each of the category have relevant words only. Therefore, we do not need to further preprocess and clean the data"
      ]
    },
    {
      "cell_type": "markdown",
      "metadata": {
        "id": "Kkn1slgOLhY8"
      },
      "source": [
        "# **Length of Description**"
      ]
    },
    {
      "cell_type": "code",
      "metadata": {
        "colab": {
          "base_uri": "https://localhost:8080/",
          "height": 1000
        },
        "id": "43in9VKHohz4",
        "outputId": "6a0be706-e20f-4d04-99c9-fdaa26fa9f58"
      },
      "source": [
        "desc = []\n",
        "prod = []\n",
        "clothing = []\n",
        "for index,row in df_balanced.iterrows():\n",
        "  d = df_balanced['description'].iloc[index]\n",
        "  p = df_balanced['product_category_tree'].iloc[index]\n",
        "  if (p=='Clothing'):\n",
        "    length = len(str(d))\n",
        "    clothing.append(length)\n",
        "\n",
        "plt.hist(clothing, bins=range(1,2000,6), \n",
        "              alpha=0.4, color=\"red\")"
      ],
      "execution_count": 34,
      "outputs": [
        {
          "output_type": "execute_result",
          "data": {
            "text/plain": [
              "(array([ 1.,  0.,  0.,  0.,  0.,  0.,  0.,  0.,  7.,  0.,  3.,  1.,  4.,\n",
              "         2.,  2.,  3.,  2., 10., 54., 35., 51., 54., 76., 76., 83., 90.,\n",
              "        40., 14., 27., 19., 15., 14.,  6.,  2.,  2.,  9., 10., 10., 12.,\n",
              "        62., 22., 17.,  6.,  6., 14.,  6.,  4., 22.,  3.,  6.,  1.,  3.,\n",
              "         1.,  3.,  3., 11.,  5., 11., 12.,  6.,  8.,  5.,  0.,  7.,  2.,\n",
              "         4.,  5.,  4.,  2.,  6., 10.,  9.,  7.,  1.,  7.,  7.,  7.,  3.,\n",
              "         5.,  5.,  2., 16.,  6.,  8.,  2.,  3.,  3.,  4., 11.,  6.,  4.,\n",
              "         2.,  4., 16., 10.,  5.,  5.,  3.,  2.,  6.,  1.,  1.,  2.,  1.,\n",
              "         4.,  0.,  2.,  1.,  6.,  3.,  1.,  1.,  2.,  1.,  1.,  0.,  2.,\n",
              "         3.,  0.,  2.,  4.,  0.,  0.,  2.,  6., 24.,  0.,  0.,  0.,  0.,\n",
              "         0.,  1.,  1.,  1.,  0.,  1.,  1.,  2.,  3.,  2.,  4.,  1.,  0.,\n",
              "         0.,  1.,  1.,  1.,  0.,  1.,  0., 14.,  1.,  0.,  0.,  0.,  0.,\n",
              "         1.,  0.,  0.,  0.,  0.,  0.,  0.,  0.,  0.,  1.,  0.,  0.,  0.,\n",
              "         1.,  0.,  0.,  0.,  0.,  0.,  0.,  0.,  0.,  1.,  0.,  0.,  0.,\n",
              "         0.,  0.,  0.,  0.,  0.,  1.,  1.,  0.,  0.,  0.,  0.,  0.,  0.,\n",
              "         0.,  0.,  1.,  1.,  0.,  0.,  0.,  0.,  0.,  0.,  0.,  0.,  0.,\n",
              "         0.,  1.,  0.,  0.,  0.,  0.,  0.,  0.,  0.,  0.,  0.,  0.,  0.,\n",
              "         0.,  0.,  0.,  1.,  1.,  0.,  0.,  0.,  0.,  0.,  0.,  0.,  0.,\n",
              "         0.,  0.,  0.,  0.,  0.,  0.,  0.,  0.,  0.,  0.,  0.,  0.,  0.,\n",
              "         0.,  0.,  0.,  0.,  0.,  0.,  0.,  0.,  0.,  0.,  0.,  0.,  0.,\n",
              "         0.,  0.,  1.,  0.,  0.,  0.,  1.,  0.,  0.,  0.,  0.,  0.,  0.,\n",
              "         0.,  0.,  0.,  0.,  0.,  0.,  0.,  0.,  0.,  0.,  0.,  0.,  0.,\n",
              "         0.,  0.,  0.,  0.,  0.,  0.,  0.,  0.,  0.,  0.,  0.,  0.,  0.,\n",
              "         0.,  0.,  0.,  0.,  0.,  0.,  0.,  0.,  0.,  0.,  0.,  0.,  0.,\n",
              "         0.,  0.,  0.,  0.,  0.,  0.,  0.,  0.,  0.,  0.,  0.,  0.,  0.,\n",
              "         0.,  0.,  0.,  0.,  0.,  0.,  0.,  0.]),\n",
              " array([   1,    7,   13,   19,   25,   31,   37,   43,   49,   55,   61,\n",
              "          67,   73,   79,   85,   91,   97,  103,  109,  115,  121,  127,\n",
              "         133,  139,  145,  151,  157,  163,  169,  175,  181,  187,  193,\n",
              "         199,  205,  211,  217,  223,  229,  235,  241,  247,  253,  259,\n",
              "         265,  271,  277,  283,  289,  295,  301,  307,  313,  319,  325,\n",
              "         331,  337,  343,  349,  355,  361,  367,  373,  379,  385,  391,\n",
              "         397,  403,  409,  415,  421,  427,  433,  439,  445,  451,  457,\n",
              "         463,  469,  475,  481,  487,  493,  499,  505,  511,  517,  523,\n",
              "         529,  535,  541,  547,  553,  559,  565,  571,  577,  583,  589,\n",
              "         595,  601,  607,  613,  619,  625,  631,  637,  643,  649,  655,\n",
              "         661,  667,  673,  679,  685,  691,  697,  703,  709,  715,  721,\n",
              "         727,  733,  739,  745,  751,  757,  763,  769,  775,  781,  787,\n",
              "         793,  799,  805,  811,  817,  823,  829,  835,  841,  847,  853,\n",
              "         859,  865,  871,  877,  883,  889,  895,  901,  907,  913,  919,\n",
              "         925,  931,  937,  943,  949,  955,  961,  967,  973,  979,  985,\n",
              "         991,  997, 1003, 1009, 1015, 1021, 1027, 1033, 1039, 1045, 1051,\n",
              "        1057, 1063, 1069, 1075, 1081, 1087, 1093, 1099, 1105, 1111, 1117,\n",
              "        1123, 1129, 1135, 1141, 1147, 1153, 1159, 1165, 1171, 1177, 1183,\n",
              "        1189, 1195, 1201, 1207, 1213, 1219, 1225, 1231, 1237, 1243, 1249,\n",
              "        1255, 1261, 1267, 1273, 1279, 1285, 1291, 1297, 1303, 1309, 1315,\n",
              "        1321, 1327, 1333, 1339, 1345, 1351, 1357, 1363, 1369, 1375, 1381,\n",
              "        1387, 1393, 1399, 1405, 1411, 1417, 1423, 1429, 1435, 1441, 1447,\n",
              "        1453, 1459, 1465, 1471, 1477, 1483, 1489, 1495, 1501, 1507, 1513,\n",
              "        1519, 1525, 1531, 1537, 1543, 1549, 1555, 1561, 1567, 1573, 1579,\n",
              "        1585, 1591, 1597, 1603, 1609, 1615, 1621, 1627, 1633, 1639, 1645,\n",
              "        1651, 1657, 1663, 1669, 1675, 1681, 1687, 1693, 1699, 1705, 1711,\n",
              "        1717, 1723, 1729, 1735, 1741, 1747, 1753, 1759, 1765, 1771, 1777,\n",
              "        1783, 1789, 1795, 1801, 1807, 1813, 1819, 1825, 1831, 1837, 1843,\n",
              "        1849, 1855, 1861, 1867, 1873, 1879, 1885, 1891, 1897, 1903, 1909,\n",
              "        1915, 1921, 1927, 1933, 1939, 1945, 1951, 1957, 1963, 1969, 1975,\n",
              "        1981, 1987, 1993, 1999]),\n",
              " <a list of 333 Patch objects>)"
            ]
          },
          "metadata": {
            "tags": []
          },
          "execution_count": 34
        },
        {
          "output_type": "display_data",
          "data": {
            "image/png": "[encoded data removed]",
            "text/plain": [
              "<Figure size 432x288 with 1 Axes>"
            ]
          },
          "metadata": {
            "tags": [],
            "needs_background": "light"
          }
        }
      ]
    },
    {
      "cell_type": "code",
      "metadata": {
        "colab": {
          "base_uri": "https://localhost:8080/",
          "height": 1000
        },
        "id": "aLJBQEq3hQLP",
        "outputId": "12a7d5af-d91a-46f3-ef3d-9a6c90923ed3"
      },
      "source": [
        "desc = []\n",
        "prod = []\n",
        "jewellery = []\n",
        "for index,row in df_balanced.iterrows():\n",
        "  d = df_balanced['description'].iloc[index]\n",
        "  p = df_balanced['product_category_tree'].iloc[index]\n",
        "  if (p=='Jewellery'):\n",
        "    length = len(str(d))\n",
        "    jewellery.append(length)\n",
        "\n",
        "plt.hist(jewellery, bins=range(1,2000,6), \n",
        "              alpha=0.4, color=\"blue\")"
      ],
      "execution_count": 35,
      "outputs": [
        {
          "output_type": "execute_result",
          "data": {
            "text/plain": [
              "(array([  0.,   0.,   0.,   0.,   0.,   0.,   0.,   0.,   0.,   0.,   0.,\n",
              "          0.,   0.,   0.,   0.,   0.,   0.,  15.,   9., 114., 327., 210.,\n",
              "        525., 129., 234., 150., 174., 210., 261., 201., 144.,  87.,  81.,\n",
              "        108.,  60.,  63.,  39.,  45.,  24.,  45.,  36.,  18.,  12.,  12.,\n",
              "         36.,  27.,   6.,  15.,  36.,  24.,  12.,   3.,  12.,   3.,   9.,\n",
              "         18.,   9.,   3.,   0.,   6.,   6.,   9.,   6.,   6.,   6.,   6.,\n",
              "         21.,   3.,   3.,   9.,  18.,   6.,   6.,   6.,   0.,   0.,   0.,\n",
              "          0.,   3.,   0.,   3.,   9.,  12.,  12.,   6.,   3.,   0.,   0.,\n",
              "          0.,   3.,   0.,   3.,   3.,   3.,   0.,   0.,   0.,   0.,   0.,\n",
              "          3.,   3.,   9.,   0.,   0.,   3.,  15.,   3.,   0.,   0.,   0.,\n",
              "         12.,   6.,   3.,   0.,   3.,   0.,   0.,   0.,   0.,   3.,   0.,\n",
              "          3.,   0.,   0.,   0.,   6.,   0.,   3.,   0.,  24.,   0.,   0.,\n",
              "          3.,   0.,   0.,   0.,   0.,   0.,   0.,   3.,   3.,   0.,   0.,\n",
              "          0.,   0.,   0.,   0.,   0.,   0.,   0.,   0.,   0.,   0.,   3.,\n",
              "          0.,   0.,   0.,   0.,   3.,   3.,   0.,   0.,   6.,   3.,   0.,\n",
              "          0.,   0.,   3.,   0.,   0.,   0.,   0.,   3.,   0.,   0.,   0.,\n",
              "          0.,   3.,   0.,   3.,   6.,   0.,   0.,   0.,   3.,   0.,   0.,\n",
              "          9.,   3.,   0.,   0.,   0.,   0.,   0.,   0.,   0.,   0.,   0.,\n",
              "          0.,   0.,   0.,   0.,   0.,   0.,   0.,   0.,   0.,   0.,   0.,\n",
              "          0.,   0.,   0.,   0.,   0.,   0.,   0.,   0.,   0.,   0.,   0.,\n",
              "          0.,   0.,   0.,   0.,   0.,   0.,   0.,   0.,   0.,   0.,   0.,\n",
              "          0.,   0.,   0.,   0.,   0.,   0.,  12.,   0.,   0.,   0.,   0.,\n",
              "          0.,   0.,   0.,   0.,   0.,   0.,   0.,   0.,   0.,   0.,   0.,\n",
              "          0.,   0.,   0.,   0.,   0.,   0.,   0.,   0.,   0.,   0.,   0.,\n",
              "          0.,   0.,   0.,   0.,   0.,   0.,   0.,   0.,   0.,   0.,   0.,\n",
              "          0.,   0.,   0.,   0.,   0.,   0.,   0.,   0.,   0.,   0.,   0.,\n",
              "          0.,   0.,   0.,   0.,   0.,   0.,   0.,   0.,   0.,   0.,   0.,\n",
              "          0.,   0.,   0.,   0.,   0.,   0.,   0.,   0.,   0.,   0.,   0.,\n",
              "          0.,   0.,   0.,   0.,   0.,   0.,   0.,   0.,   0.,   0.,   0.,\n",
              "          0.,   0.,   0.,   0.,   0.,   0.,   0.,   0.,   0.,   0.,   0.,\n",
              "          0.,   0.,   0.]),\n",
              " array([   1,    7,   13,   19,   25,   31,   37,   43,   49,   55,   61,\n",
              "          67,   73,   79,   85,   91,   97,  103,  109,  115,  121,  127,\n",
              "         133,  139,  145,  151,  157,  163,  169,  175,  181,  187,  193,\n",
              "         199,  205,  211,  217,  223,  229,  235,  241,  247,  253,  259,\n",
              "         265,  271,  277,  283,  289,  295,  301,  307,  313,  319,  325,\n",
              "         331,  337,  343,  349,  355,  361,  367,  373,  379,  385,  391,\n",
              "         397,  403,  409,  415,  421,  427,  433,  439,  445,  451,  457,\n",
              "         463,  469,  475,  481,  487,  493,  499,  505,  511,  517,  523,\n",
              "         529,  535,  541,  547,  553,  559,  565,  571,  577,  583,  589,\n",
              "         595,  601,  607,  613,  619,  625,  631,  637,  643,  649,  655,\n",
              "         661,  667,  673,  679,  685,  691,  697,  703,  709,  715,  721,\n",
              "         727,  733,  739,  745,  751,  757,  763,  769,  775,  781,  787,\n",
              "         793,  799,  805,  811,  817,  823,  829,  835,  841,  847,  853,\n",
              "         859,  865,  871,  877,  883,  889,  895,  901,  907,  913,  919,\n",
              "         925,  931,  937,  943,  949,  955,  961,  967,  973,  979,  985,\n",
              "         991,  997, 1003, 1009, 1015, 1021, 1027, 1033, 1039, 1045, 1051,\n",
              "        1057, 1063, 1069, 1075, 1081, 1087, 1093, 1099, 1105, 1111, 1117,\n",
              "        1123, 1129, 1135, 1141, 1147, 1153, 1159, 1165, 1171, 1177, 1183,\n",
              "        1189, 1195, 1201, 1207, 1213, 1219, 1225, 1231, 1237, 1243, 1249,\n",
              "        1255, 1261, 1267, 1273, 1279, 1285, 1291, 1297, 1303, 1309, 1315,\n",
              "        1321, 1327, 1333, 1339, 1345, 1351, 1357, 1363, 1369, 1375, 1381,\n",
              "        1387, 1393, 1399, 1405, 1411, 1417, 1423, 1429, 1435, 1441, 1447,\n",
              "        1453, 1459, 1465, 1471, 1477, 1483, 1489, 1495, 1501, 1507, 1513,\n",
              "        1519, 1525, 1531, 1537, 1543, 1549, 1555, 1561, 1567, 1573, 1579,\n",
              "        1585, 1591, 1597, 1603, 1609, 1615, 1621, 1627, 1633, 1639, 1645,\n",
              "        1651, 1657, 1663, 1669, 1675, 1681, 1687, 1693, 1699, 1705, 1711,\n",
              "        1717, 1723, 1729, 1735, 1741, 1747, 1753, 1759, 1765, 1771, 1777,\n",
              "        1783, 1789, 1795, 1801, 1807, 1813, 1819, 1825, 1831, 1837, 1843,\n",
              "        1849, 1855, 1861, 1867, 1873, 1879, 1885, 1891, 1897, 1903, 1909,\n",
              "        1915, 1921, 1927, 1933, 1939, 1945, 1951, 1957, 1963, 1969, 1975,\n",
              "        1981, 1987, 1993, 1999]),\n",
              " <a list of 333 Patch objects>)"
            ]
          },
          "metadata": {
            "tags": []
          },
          "execution_count": 35
        },
        {
          "output_type": "display_data",
          "data": {
            "image/png": "[encoded data removed]",
            "text/plain": [
              "<Figure size 432x288 with 1 Axes>"
            ]
          },
          "metadata": {
            "tags": [],
            "needs_background": "light"
          }
        }
      ]
    },
    {
      "cell_type": "code",
      "metadata": {
        "colab": {
          "base_uri": "https://localhost:8080/",
          "height": 1000
        },
        "id": "urn28FYFhQUC",
        "outputId": "8948f909-06a0-4981-d726-6e76fcb1ad33"
      },
      "source": [
        "desc = []\n",
        "prod = []\n",
        "watches = []\n",
        "for index,row in df_balanced.iterrows():\n",
        "  d = df_balanced['description'].iloc[index]\n",
        "  p = df_balanced['product_category_tree'].iloc[index]\n",
        "  if (p=='Watches'):\n",
        "    length = len(str(d))\n",
        "    watches.append(length)\n",
        "\n",
        "plt.hist(watches, bins=range(1,2000,6), \n",
        "              alpha=0.4, color=\"green\")"
      ],
      "execution_count": 37,
      "outputs": [
        {
          "output_type": "execute_result",
          "data": {
            "text/plain": [
              "(array([ 0.,  0.,  0.,  0.,  0.,  0.,  0.,  0.,  0.,  0.,  0.,  0.,  0.,\n",
              "         0.,  0.,  0.,  0.,  2.,  2.,  1.,  0.,  0., 16.,  3.,  4.,  4.,\n",
              "        46., 40., 13., 21., 23., 24., 23., 15., 15., 14., 27., 26., 23.,\n",
              "        15., 43., 25., 15., 15.,  3.,  6.,  5.,  3.,  1.,  1.,  4.,  2.,\n",
              "         2.,  2.,  1.,  0.,  0.,  0.,  0.,  2.,  1.,  0.,  0.,  1.,  1.,\n",
              "         1.,  3.,  2.,  0.,  0.,  0.,  1.,  1.,  2.,  2.,  0.,  1.,  0.,\n",
              "         1.,  0.,  0.,  0.,  0.,  0.,  0.,  0.,  0.,  0.,  1.,  0.,  0.,\n",
              "         0.,  0.,  0.,  0.,  0.,  1.,  1.,  1.,  0.,  0.,  0.,  0.,  0.,\n",
              "         2.,  1.,  0.,  0.,  0.,  0.,  0.,  0.,  0.,  0.,  1.,  0.,  0.,\n",
              "         0.,  0.,  0.,  0.,  0.,  0.,  0.,  1.,  0.,  0.,  0.,  1.,  0.,\n",
              "         0.,  0.,  0.,  0.,  0.,  1.,  0.,  1.,  0.,  0.,  0.,  0.,  0.,\n",
              "         0.,  0.,  0.,  0.,  0.,  0.,  0.,  0.,  0.,  1.,  0.,  0.,  0.,\n",
              "         0.,  0.,  0.,  0.,  0.,  0.,  0.,  0.,  0.,  0.,  0.,  0.,  0.,\n",
              "         0.,  0.,  0.,  0.,  0.,  0.,  0.,  0.,  0.,  1.,  0.,  0.,  0.,\n",
              "         0.,  0.,  0.,  0.,  0.,  0.,  3.,  0.,  0.,  0.,  1.,  0.,  0.,\n",
              "         0.,  0.,  0.,  0.,  0.,  0.,  0.,  0.,  0.,  1.,  0.,  0.,  1.,\n",
              "         0.,  0.,  0.,  0.,  0.,  0.,  0.,  0.,  0.,  0.,  0.,  0.,  0.,\n",
              "         0.,  0.,  0.,  0.,  0.,  0.,  0.,  0.,  0.,  0.,  0.,  0.,  0.,\n",
              "         0.,  0.,  0.,  0.,  0.,  0.,  0.,  0.,  0.,  0.,  0.,  0.,  0.,\n",
              "         0.,  0.,  0.,  0.,  0.,  0.,  0.,  0.,  0.,  0.,  0.,  0.,  0.,\n",
              "         0.,  0.,  0.,  0.,  0.,  0.,  0.,  0.,  0.,  0.,  0.,  0.,  0.,\n",
              "         0.,  0.,  0.,  0.,  0.,  0.,  0.,  0.,  0.,  0.,  0.,  0.,  0.,\n",
              "         0.,  0.,  0.,  0.,  0.,  0.,  0.,  0.,  0.,  0.,  0.,  0.,  0.,\n",
              "         0.,  0.,  0.,  0.,  0.,  0.,  0.,  0.,  0.,  0.,  0.,  0.,  0.,\n",
              "         0.,  0.,  0.,  0.,  0.,  0.,  0.,  0.,  0.,  0.,  0.,  0.,  0.,\n",
              "         0.,  0.,  1.,  0.,  0.,  0.,  0.,  0.]),\n",
              " array([   1,    7,   13,   19,   25,   31,   37,   43,   49,   55,   61,\n",
              "          67,   73,   79,   85,   91,   97,  103,  109,  115,  121,  127,\n",
              "         133,  139,  145,  151,  157,  163,  169,  175,  181,  187,  193,\n",
              "         199,  205,  211,  217,  223,  229,  235,  241,  247,  253,  259,\n",
              "         265,  271,  277,  283,  289,  295,  301,  307,  313,  319,  325,\n",
              "         331,  337,  343,  349,  355,  361,  367,  373,  379,  385,  391,\n",
              "         397,  403,  409,  415,  421,  427,  433,  439,  445,  451,  457,\n",
              "         463,  469,  475,  481,  487,  493,  499,  505,  511,  517,  523,\n",
              "         529,  535,  541,  547,  553,  559,  565,  571,  577,  583,  589,\n",
              "         595,  601,  607,  613,  619,  625,  631,  637,  643,  649,  655,\n",
              "         661,  667,  673,  679,  685,  691,  697,  703,  709,  715,  721,\n",
              "         727,  733,  739,  745,  751,  757,  763,  769,  775,  781,  787,\n",
              "         793,  799,  805,  811,  817,  823,  829,  835,  841,  847,  853,\n",
              "         859,  865,  871,  877,  883,  889,  895,  901,  907,  913,  919,\n",
              "         925,  931,  937,  943,  949,  955,  961,  967,  973,  979,  985,\n",
              "         991,  997, 1003, 1009, 1015, 1021, 1027, 1033, 1039, 1045, 1051,\n",
              "        1057, 1063, 1069, 1075, 1081, 1087, 1093, 1099, 1105, 1111, 1117,\n",
              "        1123, 1129, 1135, 1141, 1147, 1153, 1159, 1165, 1171, 1177, 1183,\n",
              "        1189, 1195, 1201, 1207, 1213, 1219, 1225, 1231, 1237, 1243, 1249,\n",
              "        1255, 1261, 1267, 1273, 1279, 1285, 1291, 1297, 1303, 1309, 1315,\n",
              "        1321, 1327, 1333, 1339, 1345, 1351, 1357, 1363, 1369, 1375, 1381,\n",
              "        1387, 1393, 1399, 1405, 1411, 1417, 1423, 1429, 1435, 1441, 1447,\n",
              "        1453, 1459, 1465, 1471, 1477, 1483, 1489, 1495, 1501, 1507, 1513,\n",
              "        1519, 1525, 1531, 1537, 1543, 1549, 1555, 1561, 1567, 1573, 1579,\n",
              "        1585, 1591, 1597, 1603, 1609, 1615, 1621, 1627, 1633, 1639, 1645,\n",
              "        1651, 1657, 1663, 1669, 1675, 1681, 1687, 1693, 1699, 1705, 1711,\n",
              "        1717, 1723, 1729, 1735, 1741, 1747, 1753, 1759, 1765, 1771, 1777,\n",
              "        1783, 1789, 1795, 1801, 1807, 1813, 1819, 1825, 1831, 1837, 1843,\n",
              "        1849, 1855, 1861, 1867, 1873, 1879, 1885, 1891, 1897, 1903, 1909,\n",
              "        1915, 1921, 1927, 1933, 1939, 1945, 1951, 1957, 1963, 1969, 1975,\n",
              "        1981, 1987, 1993, 1999]),\n",
              " <a list of 333 Patch objects>)"
            ]
          },
          "metadata": {
            "tags": []
          },
          "execution_count": 37
        },
        {
          "output_type": "display_data",
          "data": {
            "image/png": "[encoded data removed]",
            "text/plain": [
              "<Figure size 432x288 with 1 Axes>"
            ]
          },
          "metadata": {
            "tags": [],
            "needs_background": "light"
          }
        }
      ]
    },
    {
      "cell_type": "code",
      "metadata": {
        "colab": {
          "base_uri": "https://localhost:8080/",
          "height": 1000
        },
        "id": "LnGM2EpFhQbc",
        "outputId": "7dd21400-4160-4291-f5bb-74479fa8d393"
      },
      "source": [
        "desc = []\n",
        "prod = []\n",
        "mobiles = []\n",
        "for index,row in df_balanced.iterrows():\n",
        "  d = df_balanced['description'].iloc[index]\n",
        "  p = df_balanced['product_category_tree'].iloc[index]\n",
        "  if (p=='Mobiles & Accessories'):\n",
        "    length = len(str(d))\n",
        "    mobiles.append(length)\n",
        "\n",
        "plt.hist(mobiles, bins=range(1,2000,6), \n",
        "              alpha=0.4, color=\"orange\")"
      ],
      "execution_count": 38,
      "outputs": [
        {
          "output_type": "execute_result",
          "data": {
            "text/plain": [
              "(array([ 0.,  0.,  0.,  0.,  0.,  0.,  0.,  0.,  0.,  0.,  0.,  0.,  1.,\n",
              "         1.,  0.,  2., 11., 14., 79., 44., 17., 21., 46.,  5.,  3.,  3.,\n",
              "         1.,  0.,  2.,  2.,  2.,  3.,  1.,  0.,  0.,  0.,  3.,  4.,  3.,\n",
              "         0.,  8.,  6.,  3.,  6.,  3.,  3.,  5.,  4., 12.,  3., 10.,  2.,\n",
              "         4.,  1., 11.,  1.,  6.,  0.,  1.,  2.,  4.,  2.,  1.,  0.,  2.,\n",
              "         2.,  0.,  0.,  1.,  0.,  3.,  1.,  0.,  1.,  1.,  7., 13.,  2.,\n",
              "         2.,  2.,  3.,  0.,  0.,  0.,  1.,  3.,  2.,  1.,  1.,  0.,  0.,\n",
              "         0.,  0.,  6.,  6.,  2.,  1.,  3.,  4.,  2.,  2.,  2.,  4.,  5.,\n",
              "         7.,  4.,  0.,  2.,  2.,  0., 31., 17.,  5., 26., 14.,  0.,  0.,\n",
              "         3.,  1.,  9.,  3.,  1.,  0.,  0.,  1.,  1.,  4.,  1.,  3.,  3.,\n",
              "         5.,  1.,  3.,  0.,  2.,  3.,  0.,  1.,  0.,  0.,  2.,  1.,  0.,\n",
              "         1.,  0.,  1.,  1.,  1.,  3.,  3.,  0.,  2.,  2.,  0.,  0.,  1.,\n",
              "         3.,  0.,  1.,  1.,  4.,  2.,  0.,  1.,  0.,  1.,  0.,  2.,  3.,\n",
              "         0.,  1.,  0.,  0.,  0.,  0.,  0.,  2.,  4.,  4.,  0.,  0.,  0.,\n",
              "         0.,  0.,  0.,  1.,  0.,  0.,  0.,  0.,  1.,  2.,  1.,  0.,  0.,\n",
              "         1.,  0.,  0.,  0.,  1.,  3.,  1.,  1.,  1.,  1.,  8.,  1.,  3.,\n",
              "         3.,  0.,  3.,  1.,  2., 16.,  0.,  2., 13.,  1.,  5.,  0.,  0.,\n",
              "         1.,  0.,  0.,  1.,  0.,  0.,  3.,  1.,  1.,  2.,  0.,  0.,  0.,\n",
              "         0.,  0.,  0.,  0.,  0.,  0.,  0.,  0.,  0.,  1.,  0.,  0.,  0.,\n",
              "         0.,  0.,  0.,  0.,  1.,  0.,  0.,  0.,  0.,  0.,  1.,  0.,  0.,\n",
              "         0.,  0.,  0.,  2.,  0.,  0.,  0.,  0.,  0.,  0.,  0.,  0.,  0.,\n",
              "         0.,  0.,  0.,  0.,  0.,  3.,  0.,  0.,  0.,  0.,  0.,  0.,  0.,\n",
              "         0.,  0.,  1.,  1.,  0.,  0.,  0.,  0.,  0.,  0.,  1.,  0.,  0.,\n",
              "         1.,  0.,  0.,  0.,  0.,  0.,  0.,  0.,  0.,  0.,  0.,  0.,  0.,\n",
              "         0.,  0.,  0.,  0.,  0.,  0.,  0.,  0.,  0.,  0.,  0.,  0.,  0.,\n",
              "         0.,  0.,  0.,  0.,  0.,  0.,  0.,  0.]),\n",
              " array([   1,    7,   13,   19,   25,   31,   37,   43,   49,   55,   61,\n",
              "          67,   73,   79,   85,   91,   97,  103,  109,  115,  121,  127,\n",
              "         133,  139,  145,  151,  157,  163,  169,  175,  181,  187,  193,\n",
              "         199,  205,  211,  217,  223,  229,  235,  241,  247,  253,  259,\n",
              "         265,  271,  277,  283,  289,  295,  301,  307,  313,  319,  325,\n",
              "         331,  337,  343,  349,  355,  361,  367,  373,  379,  385,  391,\n",
              "         397,  403,  409,  415,  421,  427,  433,  439,  445,  451,  457,\n",
              "         463,  469,  475,  481,  487,  493,  499,  505,  511,  517,  523,\n",
              "         529,  535,  541,  547,  553,  559,  565,  571,  577,  583,  589,\n",
              "         595,  601,  607,  613,  619,  625,  631,  637,  643,  649,  655,\n",
              "         661,  667,  673,  679,  685,  691,  697,  703,  709,  715,  721,\n",
              "         727,  733,  739,  745,  751,  757,  763,  769,  775,  781,  787,\n",
              "         793,  799,  805,  811,  817,  823,  829,  835,  841,  847,  853,\n",
              "         859,  865,  871,  877,  883,  889,  895,  901,  907,  913,  919,\n",
              "         925,  931,  937,  943,  949,  955,  961,  967,  973,  979,  985,\n",
              "         991,  997, 1003, 1009, 1015, 1021, 1027, 1033, 1039, 1045, 1051,\n",
              "        1057, 1063, 1069, 1075, 1081, 1087, 1093, 1099, 1105, 1111, 1117,\n",
              "        1123, 1129, 1135, 1141, 1147, 1153, 1159, 1165, 1171, 1177, 1183,\n",
              "        1189, 1195, 1201, 1207, 1213, 1219, 1225, 1231, 1237, 1243, 1249,\n",
              "        1255, 1261, 1267, 1273, 1279, 1285, 1291, 1297, 1303, 1309, 1315,\n",
              "        1321, 1327, 1333, 1339, 1345, 1351, 1357, 1363, 1369, 1375, 1381,\n",
              "        1387, 1393, 1399, 1405, 1411, 1417, 1423, 1429, 1435, 1441, 1447,\n",
              "        1453, 1459, 1465, 1471, 1477, 1483, 1489, 1495, 1501, 1507, 1513,\n",
              "        1519, 1525, 1531, 1537, 1543, 1549, 1555, 1561, 1567, 1573, 1579,\n",
              "        1585, 1591, 1597, 1603, 1609, 1615, 1621, 1627, 1633, 1639, 1645,\n",
              "        1651, 1657, 1663, 1669, 1675, 1681, 1687, 1693, 1699, 1705, 1711,\n",
              "        1717, 1723, 1729, 1735, 1741, 1747, 1753, 1759, 1765, 1771, 1777,\n",
              "        1783, 1789, 1795, 1801, 1807, 1813, 1819, 1825, 1831, 1837, 1843,\n",
              "        1849, 1855, 1861, 1867, 1873, 1879, 1885, 1891, 1897, 1903, 1909,\n",
              "        1915, 1921, 1927, 1933, 1939, 1945, 1951, 1957, 1963, 1969, 1975,\n",
              "        1981, 1987, 1993, 1999]),\n",
              " <a list of 333 Patch objects>)"
            ]
          },
          "metadata": {
            "tags": []
          },
          "execution_count": 38
        },
        {
          "output_type": "display_data",
          "data": {
            "image/png": "[encoded data removed]",
            "text/plain": [
              "<Figure size 432x288 with 1 Axes>"
            ]
          },
          "metadata": {
            "tags": [],
            "needs_background": "light"
          }
        }
      ]
    },
    {
      "cell_type": "markdown",
      "metadata": {
        "id": "zIuTDvkmieBa"
      },
      "source": [
        "Therefore, we can observe that the average length of description for most of the categories is ~125"
      ]
    },
    {
      "cell_type": "markdown",
      "metadata": {
        "id": "7N3_X2wIdi9T"
      },
      "source": [
        "# **2.0 Model Training**"
      ]
    },
    {
      "cell_type": "markdown",
      "metadata": {
        "id": "StoN9BB-e3Q5"
      },
      "source": [
        "2.1 Importing necessary packages "
      ]
    },
    {
      "cell_type": "code",
      "metadata": {
        "id": "IgVzHfdCwMKo"
      },
      "source": [
        "from sklearn import preprocessing\n",
        "from sklearn.model_selection import train_test_split\n",
        "from sklearn.feature_extraction.text import CountVectorizer\n",
        "from sklearn.naive_bayes import MultinomialNB\n",
        "from sklearn.linear_model import LogisticRegression\n",
        "from sklearn.feature_extraction.text import TfidfTransformer\n",
        "from sklearn.metrics import classification_report\n",
        "from sklearn.feature_extraction.text import TfidfVectorizer\n",
        "from sklearn.ensemble import RandomForestClassifier\n",
        "from sklearn.pipeline import Pipeline\n",
        "from sklearn.metrics import accuracy_score, confusion_matrix\n",
        "from sklearn.impute import SimpleImputer\n",
        "from sklearn.pipeline import make_pipeline\n",
        "\n",
        "le = preprocessing.LabelEncoder()\n",
        "category_encoded=le.fit_transform(df_balanced['product_category_tree'])\n",
        "df_balanced['product_category_tree'] = category_encoded"
      ],
      "execution_count": null,
      "outputs": []
    },
    {
      "cell_type": "markdown",
      "metadata": {
        "id": "oIwh9gFjhG7Y"
      },
      "source": [
        "# **Logistic Regression Model**"
      ]
    },
    {
      "cell_type": "code",
      "metadata": {
        "colab": {
          "base_uri": "https://localhost:8080/"
        },
        "id": "hbrUNfehfoXX",
        "outputId": "4cdead9a-144e-45b4-efc3-7e81944a5c31"
      },
      "source": [
        "from sklearn.pipeline import FeatureUnion\n",
        "from sklearn.preprocessing import FunctionTransformer\n",
        "from sklearn.pipeline import Pipeline\n",
        "\n",
        "def lr(X,y):\n",
        "    from sklearn.linear_model import LogisticRegression\n",
        "    \n",
        "    X_train, X_test, y_train, y_test = train_test_split(X, y, test_size=0.2)\n",
        "    logreg = make_pipeline(CountVectorizer(), TfidfTransformer(), LogisticRegression())\n",
        "    \n",
        "    logreg.fit(X_train, y_train)\n",
        "    y_pred = logreg.predict(X_test)\n",
        "    \n",
        "    train_acc = logreg.score(X_train, y_train)\n",
        "    valid_acc = accuracy_score(y_pred, y_test)\n",
        "\n",
        "    print(f'\\tTrain Acc: {train_acc:.3f}')\n",
        "    print(f'\\tVal. Acc: {valid_acc:.3f}')\n",
        "    print(confusion_matrix(y_test,y_pred))\n",
        "    \n",
        "    print(classification_report(y_test, y_pred))\n",
        "\n",
        "X=df_balanced['description']\n",
        "y=df_balanced['product_category_tree']\n",
        "\n",
        "lr(X,y)\n",
        "\n"
      ],
      "execution_count": null,
      "outputs": [
        {
          "output_type": "stream",
          "text": [
            "\tTrain Acc: 0.979\n",
            "\tVal. Acc: 0.957\n",
            "[[ 60   0   0   1   0   0   0   1   0   0   1   0   0   0   0   0   0   0]\n",
            " [  0 200   0   0   1   2   0   1   0   0   0   3   0   0   0   0   0   0]\n",
            " [  0   1  79   3   0   0   0   1   8   0   0   0   0   0   1   0   0   0]\n",
            " [  0   1   0 151   0   0   0   1   0   0   0   3   0   0   0   0   0   0]\n",
            " [  0   0   0   0 269   0   0   0   0   2   0   0   0   0   0   0   0   0]\n",
            " [  0   0   0   1   0 127   0   0   0   0   0   4   0   0   0   0   0   0]\n",
            " [  0   0   0   0   0   0 249   0   0   0   0   0   0   0   0   0   0   0]\n",
            " [  0   0   0   0   0   0   0 182   0   0   2   0   0   0   0   0   0   0]\n",
            " [  0   0   2   0   0   5   0   0 201   0   1   0   0   0   0   0   0   0]\n",
            " [  0   0   0   0   0   0   0   0   0 242   0   0   0   0   0   0   0   0]\n",
            " [  0   0   0   0   0   0   0   1   5   0 123   0   0   0   0   0   0   0]\n",
            " [  0   0   0   0   0   4   0   2   0   0   1 233   0   0   0   0   0   0]\n",
            " [  1   0   0   1   0   0   0   1   1   0   1   0  39   0   0   0  16   0]\n",
            " [  0   0   0   2   0   0   0   1   1   0   2   0   0   2   0   0   0   0]\n",
            " [  6   1   0   0   0   0   0   0   2   0   1   0   0   0  25   0   0   0]\n",
            " [  0   0   0   0   0   0   0   3   1   0   2   0   0   0   0  69   0   0]\n",
            " [  1   1   0   0   1   0   0   1   0   0   0   0   2   0   0   0  55   0]\n",
            " [  0   0   0   0   0   0   0   0   0   0   0   0   0   0   0   0   0  95]]\n",
            "              precision    recall  f1-score   support\n",
            "\n",
            "           0       0.88      0.95      0.92        63\n",
            "           1       0.98      0.97      0.97       207\n",
            "           2       0.98      0.85      0.91        93\n",
            "           3       0.95      0.97      0.96       156\n",
            "           4       0.99      0.99      0.99       271\n",
            "           5       0.92      0.96      0.94       132\n",
            "           6       1.00      1.00      1.00       249\n",
            "           7       0.93      0.99      0.96       184\n",
            "           8       0.92      0.96      0.94       209\n",
            "           9       0.99      1.00      1.00       242\n",
            "          10       0.92      0.95      0.94       129\n",
            "          11       0.96      0.97      0.96       240\n",
            "          12       0.95      0.65      0.77        60\n",
            "          13       1.00      0.25      0.40         8\n",
            "          14       0.96      0.71      0.82        35\n",
            "          15       1.00      0.92      0.96        75\n",
            "          16       0.77      0.90      0.83        61\n",
            "          17       1.00      1.00      1.00        95\n",
            "\n",
            "    accuracy                           0.96      2509\n",
            "   macro avg       0.95      0.89      0.90      2509\n",
            "weighted avg       0.96      0.96      0.96      2509\n",
            "\n"
          ],
          "name": "stdout"
        }
      ]
    },
    {
      "cell_type": "markdown",
      "metadata": {
        "id": "vyW-VqOQi7eR"
      },
      "source": [
        "# **Naive Bayes**"
      ]
    },
    {
      "cell_type": "code",
      "metadata": {
        "colab": {
          "base_uri": "https://localhost:8080/"
        },
        "id": "s_CnGN6QtGAA",
        "outputId": "6afe5fff-a7fe-45c8-e117-cdbf782b9b57"
      },
      "source": [
        "def NaiveBayes(X,y):\n",
        "  \n",
        "    from sklearn.naive_bayes import MultinomialNB\n",
        "    X_train, X_test, y_train, y_test = train_test_split(X, y, test_size=0.2)\n",
        "\n",
        "    nb = make_pipeline(CountVectorizer(),TfidfTransformer(),MultinomialNB(alpha = 0.01))\n",
        "    nb.fit(X_train, y_train)\n",
        "\n",
        "    y_pred = nb.predict(X_test)\n",
        "\n",
        "    train_acc = nb.score(X_train, y_train)\n",
        "    valid_acc = accuracy_score(y_pred, y_test)\n",
        "\n",
        "    print(f'\\tTrain Acc: {train_acc:.3f}')\n",
        "    print(f'\\tVal. Acc: {valid_acc:.3f}')\n",
        "    print(confusion_matrix(y_test,y_pred))\n",
        "    print(classification_report(y_test, y_pred))\n",
        "\n",
        "X=df_balanced['description']\n",
        "y=df_balanced['product_category_tree']\n",
        "\n",
        "NaiveBayes(X,y)\n",
        "\n"
      ],
      "execution_count": null,
      "outputs": [
        {
          "output_type": "stream",
          "text": [
            "\tTrain Acc: 0.990\n",
            "\tVal. Acc: 0.961\n",
            "[[ 55   0   0   0   0   2   2   0   0   0   0   0   2   0   0   0   2   0]\n",
            " [  0 198   0   0   0   0   0   0   0   0   0   0   0   0   1   0   0   0]\n",
            " [  0   0  86   1   5   0   0   1   3   0   0   0   0   0   1   0   0   0]\n",
            " [  0   2   0 138   0   1   0   4   0   0   2   0   0   0   1   0   0   0]\n",
            " [  0   0   2   0 272   0   0   0   1   0   1   0   0   0   0   0   0   0]\n",
            " [  1   0   0   1   0 126   0   0   1   1   0   1   0   0   0   0   0   0]\n",
            " [  0   0   0   1   0   0 264   0   0   3   0   0   0   0   0   0   0   0]\n",
            " [  0   0   0   0   0   0   0 188   0   0   0   0   1   0   0   0   0   0]\n",
            " [  0   0   1   0   0   0   0   0 169   0   1   1   0   0   0   3   0   0]\n",
            " [  0   0   0   0   0   0   0   0   0 257   0   0   0   0   0   0   0   0]\n",
            " [  0   4   0   0   0   0   0   2   4   0 118   0   0   0   0   0   0   0]\n",
            " [  0   2   0   2   0   5   0   0   0   0   1 240   0   0   0   0   0   0]\n",
            " [  1   0   0   0   0   0   0   0   0   0   2   0  46   0   1   0  11   0]\n",
            " [  0   0   0   1   0   0   0   0   0   0   0   0   0   4   0   0   0   0]\n",
            " [  1   0   0   0   0   0   1   0   0   0   1   0   0   0  27   0   0   0]\n",
            " [  0   0   0   0   0   0   0   2   0   0   0   0   0   0   0  78   0   0]\n",
            " [  0   0   0   0   0   0   0   0   0   0   0   0   4   0   1   0  56   0]\n",
            " [  0   0   0   0   0   0   0   1   0   0   0   0   0   0   1   0   0  89]]\n",
            "              precision    recall  f1-score   support\n",
            "\n",
            "           0       0.95      0.87      0.91        63\n",
            "           1       0.96      0.99      0.98       199\n",
            "           2       0.97      0.89      0.92        97\n",
            "           3       0.96      0.93      0.95       148\n",
            "           4       0.98      0.99      0.98       276\n",
            "           5       0.94      0.96      0.95       131\n",
            "           6       0.99      0.99      0.99       268\n",
            "           7       0.95      0.99      0.97       189\n",
            "           8       0.95      0.97      0.96       175\n",
            "           9       0.98      1.00      0.99       257\n",
            "          10       0.94      0.92      0.93       128\n",
            "          11       0.99      0.96      0.98       250\n",
            "          12       0.87      0.75      0.81        61\n",
            "          13       1.00      0.80      0.89         5\n",
            "          14       0.82      0.90      0.86        30\n",
            "          15       0.96      0.97      0.97        80\n",
            "          16       0.81      0.92      0.86        61\n",
            "          17       1.00      0.98      0.99        91\n",
            "\n",
            "    accuracy                           0.96      2509\n",
            "   macro avg       0.95      0.93      0.94      2509\n",
            "weighted avg       0.96      0.96      0.96      2509\n",
            "\n"
          ],
          "name": "stdout"
        }
      ]
    },
    {
      "cell_type": "markdown",
      "metadata": {
        "id": "1hUnaIZvnq04"
      },
      "source": [
        "# **Random Forest**"
      ]
    },
    {
      "cell_type": "code",
      "metadata": {
        "colab": {
          "base_uri": "https://localhost:8080/"
        },
        "id": "4mpe1wZrtGBu",
        "outputId": "e38a4edd-3ba6-4eea-8df6-e7f921cb12ce"
      },
      "source": [
        "def randomForest(X,y):\n",
        "  \n",
        "    from sklearn.ensemble import RandomForestClassifier\n",
        "\n",
        "    X_train, X_test, y_train, y_test = train_test_split(X, y, test_size=0.2)\n",
        "    rf = make_pipeline(CountVectorizer(),TfidfTransformer(), RandomForestClassifier(criterion = \"gini\", n_estimators=50, bootstrap=True, max_features='sqrt'))\n",
        "    rf.fit(X_train, y_train)\n",
        "\n",
        "    y_pred = rf.predict(X_test)\n",
        "    \n",
        "    train_acc = rf.score(X_train, y_train)\n",
        "    valid_acc = accuracy_score(y_pred, y_test)\n",
        "\n",
        "    print(f'\\tTrain Acc: {train_acc:.3f}')\n",
        "    print(f'\\tVal. Acc: {valid_acc:.3f}')\n",
        "    print(confusion_matrix(y_test,y_pred))\n",
        "    print(classification_report(y_test, y_pred))\n",
        "\n",
        "X=df_balanced['description']\n",
        "y=df_balanced['product_category_tree']\n",
        "\n",
        "randomForest(X,y)\n",
        "\n",
        "\n",
        "    "
      ],
      "execution_count": null,
      "outputs": [
        {
          "output_type": "stream",
          "text": [
            "\tTrain Acc: 0.999\n",
            "\tVal. Acc: 0.952\n",
            "[[ 59   0   0   1   5   2   2   0   0   0   0   0   1   0   0   0   0   0]\n",
            " [  0 217   0   0   0   3   0   1   0   0   1   0   0   0   0   0   0   0]\n",
            " [  0   0  73   0   5   0   0   3   8   0   2   0   0   0   0   0   0   0]\n",
            " [  1   2   0 135   0   0   1   1   0   0   1   0   1   0   0   0   0   0]\n",
            " [  0   0   2   0 276   0   1   0   0   2   0   0   0   0   0   0   0   0]\n",
            " [  0   0   0   0   0 115   1   1   0   0   0   7   0   0   0   0   0   0]\n",
            " [  1   0   0   0   0   7 224   0   0   0   0   0   0   0   0   0   0   0]\n",
            " [  0   0   0   0   0   0   0 176   0   0   0   0   1   0   0   0   0   0]\n",
            " [  0   0   0   0   0   0   1   5 179   1   1   2   0   0   0   1   0   0]\n",
            " [  0   0   0   0   0   0   1   0   0 248   0   0   0   0   0   0   0   0]\n",
            " [  0   2   0   0   1   0   0   4   0   0 129   0   0   0   0   0   0   0]\n",
            " [  0   2   0   0   0   2   1   1   0   0   0 236   0   0   0   0   0   0]\n",
            " [  0   0   0   0   1   0   0   2   0   0   1   0  44   0   0   0   8   0]\n",
            " [  0   0   0   0   0   0   0   0   0   0   1   0   0   5   0   0   0   0]\n",
            " [  1   2   0   0   0   0   0   2   0   0   0   0   1   0  25   0   0   0]\n",
            " [  0   0   0   0   0   1   0   2   1   0   0   1   0   0   0  76   0   0]\n",
            " [  1   0   0   0   0   0   0   1   0   0   2   0   3   0   0   0  70   0]\n",
            " [  0   0   0   0   0   0   0   0   0   0   0   0   0   0   0   0   0 102]]\n",
            "              precision    recall  f1-score   support\n",
            "\n",
            "           0       0.94      0.84      0.89        70\n",
            "           1       0.96      0.98      0.97       222\n",
            "           2       0.97      0.80      0.88        91\n",
            "           3       0.99      0.95      0.97       142\n",
            "           4       0.96      0.98      0.97       281\n",
            "           5       0.88      0.93      0.91       124\n",
            "           6       0.97      0.97      0.97       232\n",
            "           7       0.88      0.99      0.94       177\n",
            "           8       0.95      0.94      0.95       190\n",
            "           9       0.99      1.00      0.99       249\n",
            "          10       0.93      0.95      0.94       136\n",
            "          11       0.96      0.98      0.97       242\n",
            "          12       0.86      0.79      0.82        56\n",
            "          13       1.00      0.83      0.91         6\n",
            "          14       1.00      0.81      0.89        31\n",
            "          15       0.99      0.94      0.96        81\n",
            "          16       0.90      0.91      0.90        77\n",
            "          17       1.00      1.00      1.00       102\n",
            "\n",
            "    accuracy                           0.95      2509\n",
            "   macro avg       0.95      0.92      0.93      2509\n",
            "weighted avg       0.95      0.95      0.95      2509\n",
            "\n"
          ],
          "name": "stdout"
        }
      ]
    },
    {
      "cell_type": "markdown",
      "metadata": {
        "id": "D2Wa_7C6oJts"
      },
      "source": [
        "# **SVM Classifier**"
      ]
    },
    {
      "cell_type": "code",
      "metadata": {
        "colab": {
          "base_uri": "https://localhost:8080/"
        },
        "id": "AtOlChqOoN10",
        "outputId": "6c19a6d2-97b1-4162-bf42-41b0a5bb3bcb"
      },
      "source": [
        "def svm(X,y):\n",
        "    from sklearn.linear_model import SGDClassifier\n",
        "    X_train, X_test, y_train, y_test = train_test_split(X, y, test_size=0.2)\n",
        "\n",
        "    sgd = make_pipeline(CountVectorizer(),TfidfTransformer(),SGDClassifier(alpha=0.001, penalty='elasticnet'))\n",
        "\n",
        "    sgd.fit(X_train, y_train)\n",
        "\n",
        "    y_pred = sgd.predict(X_test)\n",
        "    \n",
        "    train_acc = sgd.score(X_train, y_train)\n",
        "    valid_acc = accuracy_score(y_pred, y_test)\n",
        "\n",
        "    print(f'\\tTrain Acc: {train_acc:.3f}')\n",
        "    print(f'\\tVal. Acc: {valid_acc:.3f}')\n",
        "    print(confusion_matrix(y_test,y_pred))\n",
        "    print(classification_report(y_test, y_pred))\n",
        "\n",
        "X=df_balanced['description']\n",
        "y=df_balanced['product_category_tree']\n",
        "\n",
        "svm(X,y)\n",
        "\n"
      ],
      "execution_count": null,
      "outputs": [
        {
          "output_type": "stream",
          "text": [
            "\tTrain Acc: 0.930\n",
            "\tVal. Acc: 0.926\n",
            "[[ 57   0   0   2   5   0   3   0   0   1   0   1   0   0   0   0   0   0]\n",
            " [  0 189   0   2   0   0   2   0   0   0   0   1   0   0   0   0   0   0]\n",
            " [  0   0  66   1   0   0   0   2  13   0   3   0   0   0   0   0   1   0]\n",
            " [  1   2   0 144   0   0   1   0   0   0   2   1   0   0   1   0   0   0]\n",
            " [  0   0   2   1 264   0   0   0   0   1   0   0   0   0   0   0   0   1]\n",
            " [  0   0   0   0   0 107   6   0   0   0   0   4   1   0   0   0   0   0]\n",
            " [  0   0   0   0   1   0 259   0   0   0   0   0   0   0   0   0   0   0]\n",
            " [  0   0   5   3   0   0   0 175   1   0   2   0   0   0   0   0   0   0]\n",
            " [  1   0   0   1   0   2   0   5 187   1   0   1   0   0   0   0   0   0]\n",
            " [  0   0   0   0   0   0   0   0   0 251   0   0   0   0   0   0   0   0]\n",
            " [  1   1   0   1   0   2   1   5   2   0 122   1   1   0   0   0   1   0]\n",
            " [  0   2   0   0   1   3   0   0   0   1   1 220   0   0   0   0   0   0]\n",
            " [  3   0   1   3   0   1   1   2   0   4   2   1  36   0   2   0  18   0]\n",
            " [  0   0   0   1   0   0   0   0   1   0   0   0   0   3   0   0   0   0]\n",
            " [  2   3   0   1   1   1   3   0   2   0   2   0   0   0  14   0   0   0]\n",
            " [  0   3   0   0   0   0   0   3   0   1   0   0   0   0   0  60   0   0]\n",
            " [  2   1   2   3   0   0   0   1   1   0   2   0   0   0   2   1  57   0]\n",
            " [  0   0   0   0   0   0   0   0   0   0   0   0   0   0   0   0   0 113]]\n",
            "              precision    recall  f1-score   support\n",
            "\n",
            "           0       0.85      0.83      0.84        69\n",
            "           1       0.94      0.97      0.96       194\n",
            "           2       0.87      0.77      0.81        86\n",
            "           3       0.88      0.95      0.91       152\n",
            "           4       0.97      0.98      0.98       269\n",
            "           5       0.92      0.91      0.91       118\n",
            "           6       0.94      1.00      0.97       260\n",
            "           7       0.91      0.94      0.92       186\n",
            "           8       0.90      0.94      0.92       198\n",
            "           9       0.97      1.00      0.98       251\n",
            "          10       0.90      0.88      0.89       138\n",
            "          11       0.96      0.96      0.96       228\n",
            "          12       0.95      0.49      0.64        74\n",
            "          13       1.00      0.60      0.75         5\n",
            "          14       0.74      0.48      0.58        29\n",
            "          15       0.98      0.90      0.94        67\n",
            "          16       0.74      0.79      0.77        72\n",
            "          17       0.99      1.00      1.00       113\n",
            "\n",
            "    accuracy                           0.93      2509\n",
            "   macro avg       0.91      0.86      0.87      2509\n",
            "weighted avg       0.93      0.93      0.92      2509\n",
            "\n"
          ],
          "name": "stdout"
        }
      ]
    },
    {
      "cell_type": "code",
      "metadata": {
        "colab": {
          "base_uri": "https://localhost:8080/",
          "height": 300
        },
        "id": "VCyPBec8qOHz",
        "outputId": "ff306b89-e53e-404b-8383-6b77455ee8fe"
      },
      "source": [
        "Models = ['SVM', 'Logistic Regression', 'Naive Bayes','Random Forest']\n",
        "Training_Accuracy = [0.932, 0.979, 0.992, 0.999]\n",
        "fig = plt.figure(figsize = (8,4))\n",
        "plt.bar(Models, Training_Accuracy, color ='c', width = 0.5)\n",
        "plt.ylim(0.8, 1.1)\n",
        "plt.xlabel('Model')\n",
        "plt.ylabel('Training_Accuracy')\n"
      ],
      "execution_count": null,
      "outputs": [
        {
          "output_type": "execute_result",
          "data": {
            "text/plain": [
              "Text(0, 0.5, 'Training_Accuracy')"
            ]
          },
          "metadata": {
            "tags": []
          },
          "execution_count": 43
        },
        {
          "output_type": "display_data",
          "data": {
            "image/png": "[encoded data removed]",
            "text/plain": [
              "<Figure size 576x288 with 1 Axes>"
            ]
          },
          "metadata": {
            "tags": [],
            "needs_background": "light"
          }
        }
      ]
    },
    {
      "cell_type": "code",
      "metadata": {
        "colab": {
          "base_uri": "https://localhost:8080/",
          "height": 300
        },
        "id": "ezpUZw5OsQa_",
        "outputId": "d574c83f-7066-42e7-ec22-5125152b0b1c"
      },
      "source": [
        "Models = ['SVM', 'Logistic Regression', 'Naive Bayes','Random Forest']\n",
        "Training_Accuracy = [0.924, 0.958, 0.956, 0.950]\n",
        "fig = plt.figure(figsize = (8,4))\n",
        "plt.bar(Models, Training_Accuracy, color ='c', width = 0.5)\n",
        "plt.ylim(0.8, 1.1)\n",
        "plt.xlabel('Model')\n",
        "plt.ylabel('Val_Accuracy')"
      ],
      "execution_count": null,
      "outputs": [
        {
          "output_type": "execute_result",
          "data": {
            "text/plain": [
              "Text(0, 0.5, 'Val_Accuracy')"
            ]
          },
          "metadata": {
            "tags": []
          },
          "execution_count": 44
        },
        {
          "output_type": "display_data",
          "data": {
            "image/png": "[encoded data removed]",
            "text/plain": [
              "<Figure size 576x288 with 1 Axes>"
            ]
          },
          "metadata": {
            "tags": [],
            "needs_background": "light"
          }
        }
      ]
    },
    {
      "cell_type": "markdown",
      "metadata": {
        "id": "-khK0nI4tKVO"
      },
      "source": [
        "**As we can observe that Logistic Regression, Random Forest, Naive Bayes have performed equally well with an accuracy of ~96% while SVM did not perform at par with the others**"
      ]
    }
  ]
}